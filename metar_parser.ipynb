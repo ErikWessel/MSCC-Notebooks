{
 "cells": [
  {
   "cell_type": "code",
   "execution_count": 1,
   "id": "48dcdeae-4039-46db-a2b0-2274a5de14f8",
   "metadata": {},
   "outputs": [],
   "source": [
    "import ipaddress\n",
    "import logging\n",
    "from datetime import date, datetime\n",
    "\n",
    "import pandas as pd\n",
    "from dacite import from_dict\n",
    "from metar import Metar\n",
    "from shapely import Polygon\n",
    "\n",
    "from aimlsse_api.client import GroundDataClient\n",
    "from aimlsse_api.data.metar import *"
   ]
  },
  {
   "cell_type": "code",
   "execution_count": 2,
   "id": "c7a1375d",
   "metadata": {},
   "outputs": [],
   "source": [
    "logging.basicConfig(level=logging.INFO)"
   ]
  },
  {
   "cell_type": "code",
   "execution_count": 3,
   "id": "33557a71-c61b-4609-ba25-291466c30036",
   "metadata": {},
   "outputs": [],
   "source": [
    "ground_data_client = GroundDataClient(ipaddress.ip_address('127.0.0.1'), 8000)"
   ]
  },
  {
   "cell_type": "code",
   "execution_count": 4,
   "id": "f193b8b3",
   "metadata": {},
   "outputs": [
    {
     "name": "stdout",
     "output_type": "stream",
     "text": [
      "['wind_speed [KMH]', 'time', 'current_weather', 'runway_visibility [M]', 'recent_weather', 'sky_conditions [M]', 'runway_windshear', 'metar_code', 'observation_cycle', 'visibility [M]', 'visibility_direction']\n"
     ]
    }
   ],
   "source": [
    "properties = [\n",
    "    MetarProperty(MetarPropertyType.WIND_SPEED, UnitSpeed.KILOMETERS_PER_HOUR),\n",
    "    MetarProperty(MetarPropertyType.TIME),\n",
    "    MetarProperty(MetarPropertyType.CURRENT_WEATHER),\n",
    "    MetarProperty(MetarPropertyType.RUNWAY_VISIBILITY, UnitDistance.METERS),\n",
    "    MetarProperty(MetarPropertyType.RECENT_WEATHER),\n",
    "    MetarProperty(MetarPropertyType.SKY_CONDITIONS, UnitDistance.METERS),\n",
    "    MetarProperty(MetarPropertyType.RUNWAY_WINDSHEAR),\n",
    "    MetarProperty(MetarPropertyType.METAR_CODE),\n",
    "    MetarProperty(MetarPropertyType.OBSERVATION_CYCLE),\n",
    "    MetarProperty(MetarPropertyType.VISIBILITY, UnitDistance.METERS),\n",
    "    MetarProperty(MetarPropertyType.VISIBILITY_DIRECTION)\n",
    "]\n",
    "property_names = [str(property) for property in properties]\n",
    "print(property_names)"
   ]
  },
  {
   "cell_type": "code",
   "execution_count": 5,
   "id": "d0e5a080-42c9-4a5a-a591-527f0104d91a",
   "metadata": {},
   "outputs": [],
   "source": [
    "data = ground_data_client.queryMetar(date(2022, 8, 1), date(2022, 8, 6), properties,\n",
    "    stations=['EDDE','EDDF']\n",
    ")"
   ]
  },
  {
   "cell_type": "code",
   "execution_count": 6,
   "id": "28ab6799",
   "metadata": {},
   "outputs": [],
   "source": [
    "data = ground_data_client.queryMetar(date(2022, 8, 1), date(2022, 8, 6), properties,\n",
    "    polygons=[Polygon([(6.0, 47.5),(15.0, 47.5),(15.0, 55.0),(6.0, 55.0)])]\n",
    ")"
   ]
  },
  {
   "cell_type": "code",
   "execution_count": 7,
   "id": "01ba78f0",
   "metadata": {},
   "outputs": [
    {
     "name": "stdout",
     "output_type": "stream",
     "text": [
      "Index(['station', 'datetime', 'wind_speed [KMH]', 'time', 'current_weather',\n",
      "       'runway_visibility [M]', 'recent_weather', 'sky_conditions [M]',\n",
      "       'runway_windshear', 'metar_code', 'observation_cycle', 'visibility [M]',\n",
      "       'visibility_direction'],\n",
      "      dtype='object')\n",
      "station                          object\n",
      "datetime                 datetime64[ns]\n",
      "wind_speed [KMH]                float64\n",
      "time                     datetime64[ns]\n",
      "current_weather                  object\n",
      "runway_visibility [M]            object\n",
      "recent_weather                   object\n",
      "sky_conditions [M]               object\n",
      "runway_windshear                 object\n",
      "metar_code                       object\n",
      "observation_cycle                 int32\n",
      "visibility [M]                  float64\n",
      "visibility_direction            float64\n",
      "dtype: object\n"
     ]
    }
   ],
   "source": [
    "print(data.columns)\n",
    "print(data.dtypes)"
   ]
  },
  {
   "cell_type": "code",
   "execution_count": 8,
   "id": "b7f18e28",
   "metadata": {},
   "outputs": [
    {
     "name": "stdout",
     "output_type": "stream",
     "text": [
      "        wind_speed [KMH]                time  \\\n",
      "0              11.111990 2022-08-01 00:25:00   \n",
      "1               7.407994 2022-08-01 00:55:00   \n",
      "2               9.259992 2022-08-01 01:25:00   \n",
      "3               9.259992 2022-08-01 01:55:00   \n",
      "4               7.407994 2022-08-01 02:25:00   \n",
      "...                  ...                 ...   \n",
      "432295          7.407994 2022-11-30 21:50:00   \n",
      "432296          7.407994 2022-11-30 22:20:00   \n",
      "432297          7.407994 2022-11-30 22:50:00   \n",
      "432298          5.555995 2022-11-30 23:20:00   \n",
      "432299          5.555995 2022-11-30 23:50:00   \n",
      "\n",
      "                                          current_weather  \\\n",
      "0       [DataWeather(intensity='', description=None, p...   \n",
      "1       [DataWeather(intensity='', description=None, p...   \n",
      "2       [DataWeather(intensity='', description=None, p...   \n",
      "3       [DataWeather(intensity='', description=None, p...   \n",
      "4       [DataWeather(intensity='', description=None, p...   \n",
      "...                                                   ...   \n",
      "432295                                                 []   \n",
      "432296                                                 []   \n",
      "432297                                                 []   \n",
      "432298                                                 []   \n",
      "432299                                                 []   \n",
      "\n",
      "       runway_visibility [M] recent_weather  \\\n",
      "0                         []             []   \n",
      "1                         []             []   \n",
      "2                         []             []   \n",
      "3                         []             []   \n",
      "4                         []             []   \n",
      "...                      ...            ...   \n",
      "432295                    []             []   \n",
      "432296                    []             []   \n",
      "432297                    []             []   \n",
      "432298                    []             []   \n",
      "432299                    []             []   \n",
      "\n",
      "                                       sky_conditions [M] runway_windshear  \\\n",
      "0                                                      []               []   \n",
      "1                                                      []               []   \n",
      "2                                                      []               []   \n",
      "3                                                      []               []   \n",
      "4                                                      []               []   \n",
      "...                                                   ...              ...   \n",
      "432295  [DataSkyConditions(cover='FEW', height=243.839...               []   \n",
      "432296  [DataSkyConditions(cover='FEW', height=213.359...               []   \n",
      "432297  [DataSkyConditions(cover='FEW', height=274.319...               []   \n",
      "432298  [DataSkyConditions(cover='FEW', height=213.359...               []   \n",
      "432299  [DataSkyConditions(cover='FEW', height=213.359...               []   \n",
      "\n",
      "                                               metar_code  observation_cycle  \\\n",
      "0          EBLB 010025Z AUTO 27006KT //// /// ///// Q////                  0   \n",
      "1          EBLB 010055Z AUTO 27004KT //// /// ///// Q////                  1   \n",
      "2          EBLB 010125Z AUTO 28005KT //// /// ///// Q////                  1   \n",
      "3          EBLB 010155Z AUTO 28005KT //// /// ///// Q////                  2   \n",
      "4          EBLB 010225Z AUTO 27004KT //// /// ///// Q////                  2   \n",
      "...                                                   ...                ...   \n",
      "432295  LOWS 302150Z AUTO 34004KT 7000 FEW008 BKN011 0...                 22   \n",
      "432296  LOWS 302220Z AUTO 31004KT 7000 FEW007 BKN010 0...                 22   \n",
      "432297  LOWS 302250Z AUTO 31004KT 7000 FEW009 BKN010 0...                 23   \n",
      "432298  LOWS 302320Z AUTO 36003KT 320V020 7000 FEW007 ...                 23   \n",
      "432299  LOWS 302350Z AUTO 31003KT 6000 FEW007 BKN009 0...                 24   \n",
      "\n",
      "        visibility [M]  visibility_direction  \n",
      "0              10000.0                   NaN  \n",
      "1              10000.0                   NaN  \n",
      "2              10000.0                   NaN  \n",
      "3              10000.0                   NaN  \n",
      "4              10000.0                   NaN  \n",
      "...                ...                   ...  \n",
      "432295          7000.0                   NaN  \n",
      "432296          7000.0                   NaN  \n",
      "432297          7000.0                   NaN  \n",
      "432298          7000.0                   NaN  \n",
      "432299          6000.0                   NaN  \n",
      "\n",
      "[400576 rows x 11 columns]\n"
     ]
    }
   ],
   "source": [
    "print(data[property_names])"
   ]
  },
  {
   "cell_type": "code",
   "execution_count": 9,
   "id": "69a3c677",
   "metadata": {},
   "outputs": [
    {
     "name": "stdout",
     "output_type": "stream",
     "text": [
      "[DataWeather(intensity='', description=None, precipitation='///', obscuration=None, other=None), DataWeather(intensity='', description=None, precipitation='/////', obscuration=None, other=None)]\n",
      "[]\n",
      "[]\n",
      "[]\n",
      "[]\n"
     ]
    }
   ],
   "source": [
    "print(data['current_weather'][0])\n",
    "print(data['recent_weather'][0])\n",
    "print(data['runway_visibility [M]'][0])\n",
    "print(data['runway_windshear'][0])\n",
    "print(data['sky_conditions [M]'][0])"
   ]
  },
  {
   "cell_type": "code",
   "execution_count": 10,
   "id": "e02b6fae",
   "metadata": {},
   "outputs": [
    {
     "name": "stdout",
     "output_type": "stream",
     "text": [
      "0         []\n",
      "1         []\n",
      "2         []\n",
      "3         []\n",
      "4         []\n",
      "          ..\n",
      "432295    []\n",
      "432296    []\n",
      "432297    []\n",
      "432298    []\n",
      "432299    []\n",
      "Name: runway_visibility [M], Length: 400576, dtype: object\n"
     ]
    }
   ],
   "source": [
    "runway_data = data['runway_visibility [M]']\n",
    "print(runway_data)"
   ]
  },
  {
   "cell_type": "code",
   "execution_count": 11,
   "id": "64f6f9f3",
   "metadata": {},
   "outputs": [
    {
     "name": "stdout",
     "output_type": "stream",
     "text": [
      "EBLB 010025Z AUTO 27006KT //// /// ///// Q////\n"
     ]
    }
   ],
   "source": [
    "metar_code = data['metar_code'].iloc[0]\n",
    "print(metar_code)"
   ]
  },
  {
   "attachments": {},
   "cell_type": "markdown",
   "id": "ca80ed12",
   "metadata": {},
   "source": [
    "This way, the following properties are made available:\n",
    "```\n",
    "[\n",
    "    'station_id', 'time', 'cycle', 'type', 'mod', 'visibility_m',\n",
    "    'temperature_C', 'dew_point_C', 'wind_speed_kmh', 'wind_dir', \n",
    "    'pressure_mb', 'sea_level_pressure_mb', 'snowdepth_m', 'code'\n",
    "]\n",
    "```\n",
    "Any additional flags must be computed separately, like:\n",
    "```\n",
    "[\n",
    "    'lowcloud_cover', 'lowcloud_height_m', 'lowcloud_type', 'CAVOK'\n",
    "]\n",
    "```"
   ]
  },
  {
   "cell_type": "code",
   "execution_count": 12,
   "id": "efed3fd4",
   "metadata": {},
   "outputs": [
    {
     "name": "stdout",
     "output_type": "stream",
     "text": [
      "0         False\n",
      "1         False\n",
      "2         False\n",
      "3         False\n",
      "4         False\n",
      "          ...  \n",
      "432295    False\n",
      "432296    False\n",
      "432297    False\n",
      "432298    False\n",
      "432299    False\n",
      "Name: CAVOK, Length: 400576, dtype: bool\n"
     ]
    }
   ],
   "source": [
    "data['CAVOK'] = data['metar_code'].str.contains('CAVOK')\n",
    "print(data['CAVOK'])"
   ]
  }
 ],
 "metadata": {
  "kernelspec": {
   "display_name": "Python 3 (ipykernel)",
   "language": "python",
   "name": "python3"
  },
  "language_info": {
   "codemirror_mode": {
    "name": "ipython",
    "version": 3
   },
   "file_extension": ".py",
   "mimetype": "text/x-python",
   "name": "python",
   "nbconvert_exporter": "python",
   "pygments_lexer": "ipython3",
   "version": "3.9.15"
  },
  "vscode": {
   "interpreter": {
    "hash": "d581a96df5f4d85c539a287c4f6ef29fb4dda2cc3374c000ae58cf3e6d0b188e"
   }
  }
 },
 "nbformat": 4,
 "nbformat_minor": 5
}
