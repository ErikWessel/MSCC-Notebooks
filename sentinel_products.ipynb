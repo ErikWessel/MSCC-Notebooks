{
 "cells": [
  {
   "cell_type": "code",
   "execution_count": 4,
   "metadata": {},
   "outputs": [],
   "source": [
    "from requests.auth import HTTPBasicAuth\n",
    "from datetime import datetime, timezone\n",
    "import shapely\n",
    "from shapely import Point, Polygon, MultiPolygon\n",
    "import yaml\n",
    "import ipaddress\n",
    "import os\n",
    "\n",
    "import geopandas as gpd\n",
    "import pandas as pd\n",
    "from sentinelsat.sentinel import SentinelAPI\n",
    "\n",
    "from aimlsse_api.client import SatelliteDataClient, GroundDataClient\n",
    "from aimlsse_api.data import Credentials"
   ]
  },
  {
   "cell_type": "markdown",
   "metadata": {},
   "source": [
    "Make sure that the file `login.yml` exists. If not, create a new one and store your credentials for the [Copernicus OpenAPI Hub](https://scihub.copernicus.eu/dhus/#/home) in the following form:\n",
    "```\n",
    "username: <copernicus-username>\n",
    "password: <copernicus-password>\n",
    "```\n",
    "The file is excluded from git to make sure that credentials are kept private."
   ]
  },
  {
   "cell_type": "code",
   "execution_count": 5,
   "metadata": {},
   "outputs": [],
   "source": [
    "login_config = yaml.safe_load(open('login.yml'))\n",
    "username = login_config['username']\n",
    "password = login_config['password']\n",
    "copernicus_login = Credentials(username, password)"
   ]
  },
  {
   "cell_type": "code",
   "execution_count": 8,
   "metadata": {},
   "outputs": [],
   "source": [
    "data_dir = 'data'"
   ]
  },
  {
   "cell_type": "code",
   "execution_count": 6,
   "metadata": {},
   "outputs": [
    {
     "name": "stdout",
     "output_type": "stream",
     "text": [
      "epsg:4326\n"
     ]
    }
   ],
   "source": [
    "area_of_interest = gpd.GeoDataFrame.from_file('input/USA.geojson')\n",
    "print(area_of_interest.crs)\n",
    "polygon = area_of_interest.iloc[0]['geometry']"
   ]
  },
  {
   "cell_type": "code",
   "execution_count": 15,
   "metadata": {},
   "outputs": [
    {
     "name": "stdout",
     "output_type": "stream",
     "text": [
      "Index(['title', 'link', 'link_alternative', 'link_icon', 'summary', 'ondemand',\n",
      "       'datatakesensingstart', 'generationdate', 'beginposition',\n",
      "       'endposition', 'ingestiondate', 'orbitnumber', 'relativeorbitnumber',\n",
      "       'cloudcoverpercentage', 'sensoroperationalmode', 'gmlfootprint',\n",
      "       'footprint', 'level1cpdiidentifier', 'tileid', 'hv_order_tileid',\n",
      "       'format', 'processingbaseline', 'platformname', 'filename',\n",
      "       'instrumentname', 'instrumentshortname', 'size', 's2datatakeid',\n",
      "       'producttype', 'platformidentifier', 'orbitdirection',\n",
      "       'platformserialidentifier', 'processinglevel', 'datastripidentifier',\n",
      "       'granuleidentifier', 'identifier', 'uuid'],\n",
      "      dtype='object')\n"
     ]
    }
   ],
   "source": [
    "satellite_client = SatelliteDataClient(ipaddress.ip_address('127.0.0.1'), 8010)\n",
    "products_metadata_filename = 'products_metadata.csv'\n",
    "products_metadata_filepath = os.path.join(data_dir, products_metadata_filename)\n",
    "if os.path.exists(products_metadata_filepath):\n",
    "    products = pd.read_csv(products_metadata_filepath, index_col=['id'])\n",
    "else:\n",
    "    products = satellite_client.queryProductsMetadata(\n",
    "        polygon,\n",
    "        datetime(2023, 1, 1, tzinfo=timezone.utc),\n",
    "        datetime(2023, 2, 1, tzinfo=timezone.utc),\n",
    "        copernicus_login\n",
    "    )\n",
    "    products.to_csv(products_metadata_filepath, index_label='id')\n",
    "print(products.columns)"
   ]
  },
  {
   "cell_type": "code",
   "execution_count": 16,
   "metadata": {},
   "outputs": [
    {
     "name": "stdout",
     "output_type": "stream",
     "text": [
      "                                      cloudcoverpercentage  \\\n",
      "id                                                           \n",
      "aa5d9a34-d4e6-4c5e-8a56-f1eb696741a0                 100.0   \n",
      "2b935353-afde-4fd7-b42d-d7146ac003af                 100.0   \n",
      "8a601697-f469-407c-94d6-ad05da5b8e29                 100.0   \n",
      "1ae3a87c-4648-4764-92f1-3a4d4982dcb4                 100.0   \n",
      "e2b2d43d-7430-4de5-bf53-c72c444f9cc5                 100.0   \n",
      "...                                                    ...   \n",
      "86c7f37d-8924-43c3-b65c-2cd3d7b13417                   0.0   \n",
      "82960a02-f7d0-4374-980a-e79084883638                   0.0   \n",
      "c6d1d326-0276-4201-b6c1-ec4e056ae469                   0.0   \n",
      "b07d8a6c-9ffc-46fd-bc59-6bdd1459d7a1                   0.0   \n",
      "16b4bbe0-23b5-4e0e-82ee-e2ff32fe44d6                   0.0   \n",
      "\n",
      "                                                 generationdate  \n",
      "id                                                               \n",
      "aa5d9a34-d4e6-4c5e-8a56-f1eb696741a0 1970-01-01 00:27:52.596667  \n",
      "2b935353-afde-4fd7-b42d-d7146ac003af 1970-01-01 00:27:52.602517  \n",
      "8a601697-f469-407c-94d6-ad05da5b8e29 1970-01-01 00:27:52.602933  \n",
      "1ae3a87c-4648-4764-92f1-3a4d4982dcb4 1970-01-01 00:27:52.602933  \n",
      "e2b2d43d-7430-4de5-bf53-c72c444f9cc5 1970-01-01 00:27:52.602933  \n",
      "...                                                         ...  \n",
      "86c7f37d-8924-43c3-b65c-2cd3d7b13417 1970-01-01 00:27:55.199880  \n",
      "82960a02-f7d0-4374-980a-e79084883638 1970-01-01 00:27:55.199880  \n",
      "c6d1d326-0276-4201-b6c1-ec4e056ae469 1970-01-01 00:27:55.199880  \n",
      "b07d8a6c-9ffc-46fd-bc59-6bdd1459d7a1 1970-01-01 00:27:55.199880  \n",
      "16b4bbe0-23b5-4e0e-82ee-e2ff32fe44d6 1970-01-01 00:27:55.199880  \n",
      "\n",
      "[13830 rows x 2 columns]\n"
     ]
    }
   ],
   "source": [
    "products['generationdate'] = pd.to_datetime(products['generationdate'])\n",
    "products_sorted = products.sort_values(by=['cloudcoverpercentage', 'generationdate'], ascending=[False, True])\n",
    "print(products_sorted[['cloudcoverpercentage', 'generationdate']])"
   ]
  },
  {
   "cell_type": "code",
   "execution_count": 17,
   "metadata": {},
   "outputs": [],
   "source": [
    "products_range_selection = products_sorted[(products_sorted['cloudcoverpercentage'] > 50) & (products_sorted['cloudcoverpercentage'] < 70)]"
   ]
  },
  {
   "cell_type": "code",
   "execution_count": 18,
   "metadata": {},
   "outputs": [
    {
     "name": "stdout",
     "output_type": "stream",
     "text": [
      "id\n",
      "405c25dc-37a3-45bd-b07c-1dce4c56b138    69.988743\n",
      "dd286f3f-16c7-4c0e-98cd-4051ed536db5    69.985661\n",
      "2e0355d0-109f-4282-80ed-9eb459e5d180    69.932187\n",
      "939b9586-a20d-4a2f-8aac-8e3d55b6b7e4    69.886648\n",
      "742aeed4-20d2-4132-9612-8ce57aa9e163    69.828357\n",
      "                                          ...    \n",
      "28d6373b-0682-435c-a720-4cfe6229b04e    50.040999\n",
      "927d999b-984f-4980-909e-ac6c0b9a069c    50.040060\n",
      "6e6228ef-aad4-4836-a13e-5fb2e95dcf1d    50.036848\n",
      "e198f895-0077-483b-886a-8691caff3f67    50.016704\n",
      "1c37a07e-34df-4462-9e3c-831a72667f89    50.006792\n",
      "Name: cloudcoverpercentage, Length: 1115, dtype: float64\n"
     ]
    }
   ],
   "source": [
    "print(products_range_selection['cloudcoverpercentage'])"
   ]
  },
  {
   "cell_type": "code",
   "execution_count": 19,
   "metadata": {},
   "outputs": [
    {
     "name": "stdout",
     "output_type": "stream",
     "text": [
      "MULTIPOLYGON (((-101.67325 33.306789832353964, -101.634735 34.29540573036853, -102.82666 34.32237324440533, -102.85156 33.332774540686216, -101.67325 33.306789832353964)))\n"
     ]
    }
   ],
   "source": [
    "print(products_range_selection.loc['405c25dc-37a3-45bd-b07c-1dce4c56b138']['footprint'])\n",
    "multi_poly: MultiPolygon = shapely.from_wkt(products_range_selection.loc['405c25dc-37a3-45bd-b07c-1dce4c56b138']['footprint'])"
   ]
  },
  {
   "cell_type": "code",
   "execution_count": 20,
   "metadata": {},
   "outputs": [
    {
     "name": "stdout",
     "output_type": "stream",
     "text": [
      "                        geometry    id                     name  \\\n",
      "0    POINT (-101.81400 33.65400)   LBB                  Lubbock   \n",
      "1    POINT (-102.00000 33.60000)  KREE  Reese Afb/Lubock  TX/US   \n",
      "2    POINT (-102.37250 33.55250)   LLN                Levelland   \n",
      "3    POINT (-101.82278 33.66364)   LBB        LUBBOCK INTL ARPT   \n",
      "4    POINT (-101.71734 34.16815)   PVW                PLAINVIEW   \n",
      "..                           ...   ...                      ...   \n",
      "102  POINT (-102.12000 34.09000)  XONS                    OLTON   \n",
      "103  POINT (-101.71000 34.18000)  XPVS                PLAINVIEW   \n",
      "104  POINT (-102.05000 33.61000)  XREE                    REESE   \n",
      "105  POINT (-102.61000 33.39000)  XSDS                  SUNDOWN   \n",
      "106  POINT (-102.05000 33.42000)  XWOS                WOLFFORTH   \n",
      "\n",
      "                   plot_name  network  latitude  longitude  elevation  \\\n",
      "0                       None   NEXRAD  33.65400 -101.81400  1029.0000   \n",
      "1    Reese Afb/Lubock, TX/US     RAOB  33.60000 -102.00000  1010.0047   \n",
      "2                  Levelland  TX_ASOS  33.55250 -102.37250  1066.5017   \n",
      "3                       None  TX_ASOS  33.66364 -101.82278   988.0000   \n",
      "4                       None  TX_ASOS  34.16815 -101.71734  1028.0000   \n",
      "..                       ...      ...       ...        ...        ...   \n",
      "102                     None      WTM  34.09000 -102.12000  1087.0000   \n",
      "103                     None      WTM  34.18000 -101.71000  1015.0000   \n",
      "104                     None      WTM  33.61000 -102.05000  1020.0000   \n",
      "105                     None      WTM  33.39000 -102.61000  1105.0000   \n",
      "106                     None      WTM  33.42000 -102.05000  1008.0000   \n",
      "\n",
      "     index_right ISO_A3_EH                   country      CONTINENT  \\\n",
      "0            154       USA  United States of America  North America   \n",
      "1            154       USA  United States of America  North America   \n",
      "2            154       USA  United States of America  North America   \n",
      "3            154       USA  United States of America  North America   \n",
      "4            154       USA  United States of America  North America   \n",
      "..           ...       ...                       ...            ...   \n",
      "102          154       USA  United States of America  North America   \n",
      "103          154       USA  United States of America  North America   \n",
      "104          154       USA  United States of America  North America   \n",
      "105          154       USA  United States of America  North America   \n",
      "106          154       USA  United States of America  North America   \n",
      "\n",
      "     distance_to_region  \n",
      "0                   0.0  \n",
      "1                   0.0  \n",
      "2                   0.0  \n",
      "3                   0.0  \n",
      "4                   0.0  \n",
      "..                  ...  \n",
      "102                 0.0  \n",
      "103                 0.0  \n",
      "104                 0.0  \n",
      "105                 0.0  \n",
      "106                 0.0  \n",
      "\n",
      "[107 rows x 13 columns]\n"
     ]
    }
   ],
   "source": [
    "ground_client = GroundDataClient(ipaddress.ip_address('127.0.0.1'), 8000)\n",
    "stations = ground_client.queryMetadata(\n",
    "    polygons=[multi_poly]\n",
    ")\n",
    "print(stations)"
   ]
  },
  {
   "cell_type": "code",
   "execution_count": 21,
   "metadata": {},
   "outputs": [
    {
     "name": "stdout",
     "output_type": "stream",
     "text": [
      "       id                     geometry\n",
      "0     LBB  POINT (-101.81400 33.65400)\n",
      "1    KREE  POINT (-102.00000 33.60000)\n",
      "2     LLN  POINT (-102.37250 33.55250)\n",
      "3     LBB  POINT (-101.82278 33.66364)\n",
      "4     PVW  POINT (-101.71734 34.16815)\n",
      "..    ...                          ...\n",
      "102  XONS  POINT (-102.12000 34.09000)\n",
      "103  XPVS  POINT (-101.71000 34.18000)\n",
      "104  XREE  POINT (-102.05000 33.61000)\n",
      "105  XSDS  POINT (-102.61000 33.39000)\n",
      "106  XWOS  POINT (-102.05000 33.42000)\n",
      "\n",
      "[107 rows x 2 columns]\n"
     ]
    }
   ],
   "source": [
    "print(stations[['id', 'geometry']])"
   ]
  },
  {
   "cell_type": "code",
   "execution_count": 22,
   "metadata": {},
   "outputs": [],
   "source": [
    "stations.to_file('data/product_stations.geojson')"
   ]
  }
 ],
 "metadata": {
  "kernelspec": {
   "display_name": "Python 3 (ipykernel)",
   "language": "python",
   "name": "python3"
  },
  "language_info": {
   "codemirror_mode": {
    "name": "ipython",
    "version": 3
   },
   "file_extension": ".py",
   "mimetype": "text/x-python",
   "name": "python",
   "nbconvert_exporter": "python",
   "pygments_lexer": "ipython3",
   "version": "3.9.15"
  },
  "vscode": {
   "interpreter": {
    "hash": "d581a96df5f4d85c539a287c4f6ef29fb4dda2cc3374c000ae58cf3e6d0b188e"
   }
  }
 },
 "nbformat": 4,
 "nbformat_minor": 4
}
