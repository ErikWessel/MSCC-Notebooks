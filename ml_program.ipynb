{
 "cells": [
  {
   "cell_type": "code",
   "execution_count": 1,
   "metadata": {
    "tags": []
   },
   "outputs": [],
   "source": [
    "import gc\n",
    "import math\n",
    "import os\n",
    "from typing import List, Tuple\n",
    "\n",
    "import matplotlib.pyplot as plt\n",
    "import pandas as pd\n",
    "import rasterio\n",
    "import rasterio.plot\n",
    "import seaborn as sns\n",
    "import torch\n",
    "import torch.backends.cudnn as cudnn\n",
    "import torchvision.transforms as transforms\n",
    "import yaml\n",
    "from torch import nn, optim\n",
    "from torch.utils.data import DataLoader, WeightedRandomSampler\n",
    "from torchvision.models import (EfficientNet_V2_S_Weights, Swin_V2_S_Weights,\n",
    "                                efficientnet_v2_s, swin_v2_s)\n",
    "\n",
    "from ml_commons import *\n",
    "\n",
    "cudnn.benchmark = True\n",
    "sns.set_theme()"
   ]
  },
  {
   "attachments": {},
   "cell_type": "markdown",
   "metadata": {},
   "source": [
    "Load configuration file that specifies training routine"
   ]
  },
  {
   "cell_type": "code",
   "execution_count": 2,
   "metadata": {},
   "outputs": [],
   "source": [
    "config = yaml.safe_load(open('ml_config.yml'))"
   ]
  },
  {
   "cell_type": "code",
   "execution_count": 3,
   "metadata": {
    "tags": []
   },
   "outputs": [],
   "source": [
    "prefix_dir = config['paths']['prefix_dir']\n",
    "dataset_dir = os.path.join(prefix_dir, config['paths']['dataset_dir'])\n",
    "output_dir = os.path.join(config['paths']['machine_learning_dir'], 'output')"
   ]
  },
  {
   "attachments": {},
   "cell_type": "markdown",
   "metadata": {},
   "source": [
    "Release memory to ensure enough capacity on the selected device"
   ]
  },
  {
   "cell_type": "code",
   "execution_count": 4,
   "metadata": {
    "tags": []
   },
   "outputs": [],
   "source": [
    "gc.collect()\n",
    "with torch.no_grad():\n",
    "    torch.cuda.empty_cache()"
   ]
  },
  {
   "cell_type": "code",
   "execution_count": 5,
   "metadata": {
    "tags": []
   },
   "outputs": [
    {
     "name": "stdout",
     "output_type": "stream",
     "text": [
      "Using cuda for inference\n"
     ]
    }
   ],
   "source": [
    "device = torch.device(\"cuda\") if torch.cuda.is_available() else torch.device(\"cpu\")\n",
    "print(f'Using {device} for inference')"
   ]
  },
  {
   "attachments": {},
   "cell_type": "markdown",
   "metadata": {},
   "source": [
    "Create model using transfer learning from either EfficientNetV2 or SwinTransformerV2"
   ]
  },
  {
   "cell_type": "code",
   "execution_count": 6,
   "metadata": {},
   "outputs": [],
   "source": [
    "def print_model(model:nn.Module, name:str):\n",
    "    spacing = '  '\n",
    "    model_str = spacing + f'\\n{spacing}'.join(str(model).splitlines())\n",
    "    print(f'--- {name} ---\\n{model_str}\\n{\"-\" * (8 + len(name))}')"
   ]
  },
  {
   "cell_type": "code",
   "execution_count": 7,
   "metadata": {
    "tags": []
   },
   "outputs": [
    {
     "name": "stdout",
     "output_type": "stream",
     "text": [
      "Using model: EfficientNet\n",
      "--- Initial Model Head ---\n",
      "  Sequential(\n",
      "    (0): Dropout(p=0.2, inplace=True)\n",
      "    (1): Linear(in_features=1280, out_features=1000, bias=True)\n",
      "  )\n",
      "--------------------------\n",
      "Classification layer has 1280 input features\n",
      "--- Modified Model Head ---\n",
      "  Sequential(\n",
      "    (0): Dropout(p=0.2, inplace=True)\n",
      "    (1): Linear(in_features=1280, out_features=5, bias=True)\n",
      "  )\n",
      "---------------------------\n"
     ]
    }
   ],
   "source": [
    "print(f'Using model: ' + config['model']['name'])\n",
    "model_name = str(config['model']['name']).lower()\n",
    "use_transfer_learning = config['model']['use_transfer_learning']\n",
    "if model_name == 'swintransformer':\n",
    "    model = swin_v2_s(weights = Swin_V2_S_Weights.DEFAULT if use_transfer_learning else None)\n",
    "elif model_name == 'efficientnet':\n",
    "    model = efficientnet_v2_s(weights = EfficientNet_V2_S_Weights.DEFAULT if use_transfer_learning else None)\n",
    "else:\n",
    "    raise RuntimeError(f'Model \"' + config['model']['name'] + '\" is unknown')\n",
    "\n",
    "if config['model']['freeze_parameters']:\n",
    "    for param in model.parameters(): #freeze model\n",
    "        param.requires_grad = False\n",
    "\n",
    "print_model(get_model_head(model), 'Initial Model Head')\n",
    "num_features = get_num_features(model)\n",
    "print(f'Classification layer has {num_features} input features')\n",
    "new_model_head = nn.Sequential()\n",
    "# Before linear layer\n",
    "if config['processing']['use_dropout']:\n",
    "    new_model_head.append(nn.Dropout(p=config['processing']['dropout_p'], inplace=True))\n",
    "# Linear layer\n",
    "linear_layer = nn.Linear(num_features, 1 if config['processing']['use_one_neuron_regression'] else len(classes))\n",
    "new_model_head.append(linear_layer)\n",
    "# After linear layer\n",
    "if (config['processing']['use_ordinal_regression'] or config['processing']['use_one_neuron_regression']) \\\n",
    "        and config['processing']['activation_function'] != False:\n",
    "    activation_function = str(config['processing']['activation_function']).lower()\n",
    "    if activation_function == 'sigmoid':\n",
    "        activation_function = nn.Sigmoid()\n",
    "    elif activation_function == 'relu':\n",
    "        activation_function = nn.ReLU()\n",
    "    elif activation_function == 'tanh':\n",
    "        activation_function = nn.Tanh()\n",
    "    else:\n",
    "        raise RuntimeError(f'Unkown activation function: {activation_function}')\n",
    "    new_model_head = new_model_head.append(activation_function)\n",
    "\n",
    "set_model_head(model, new_model_head)\n",
    "print_model(get_model_head(model), 'Modified Model Head')\n",
    "# model = nn.DataParallel(model)\n",
    "model = model.to(device)"
   ]
  },
  {
   "attachments": {},
   "cell_type": "markdown",
   "metadata": {},
   "source": [
    "Load weights and define prerequisite functions for model training"
   ]
  },
  {
   "cell_type": "code",
   "execution_count": 8,
   "metadata": {
    "tags": []
   },
   "outputs": [
    {
     "data": {
      "text/html": [
       "<div>\n",
       "<style scoped>\n",
       "    .dataframe tbody tr th:only-of-type {\n",
       "        vertical-align: middle;\n",
       "    }\n",
       "\n",
       "    .dataframe tbody tr th {\n",
       "        vertical-align: top;\n",
       "    }\n",
       "\n",
       "    .dataframe thead th {\n",
       "        text-align: right;\n",
       "    }\n",
       "</style>\n",
       "<table border=\"1\" class=\"dataframe\">\n",
       "  <thead>\n",
       "    <tr style=\"text-align: right;\">\n",
       "      <th>label</th>\n",
       "      <th>CLR</th>\n",
       "      <th>FEW</th>\n",
       "      <th>SCT</th>\n",
       "      <th>BKN</th>\n",
       "      <th>OVC</th>\n",
       "    </tr>\n",
       "  </thead>\n",
       "  <tbody>\n",
       "    <tr>\n",
       "      <th>weight</th>\n",
       "      <td>2.505284</td>\n",
       "      <td>13.22179</td>\n",
       "      <td>9.509328</td>\n",
       "      <td>6.538807</td>\n",
       "      <td>3.743665</td>\n",
       "    </tr>\n",
       "  </tbody>\n",
       "</table>\n",
       "</div>"
      ],
      "text/plain": [
       "label        CLR       FEW       SCT       BKN       OVC\n",
       "weight  2.505284  13.22179  9.509328  6.538807  3.743665"
      ]
     },
     "execution_count": 8,
     "metadata": {},
     "output_type": "execute_result"
    }
   ],
   "source": [
    "training_weights = pd.read_csv(os.path.join(dataset_dir, 'training_weights.csv'), index_col='label')\n",
    "training_weights.T"
   ]
  },
  {
   "cell_type": "code",
   "execution_count": 9,
   "metadata": {},
   "outputs": [],
   "source": [
    "def prediction_to_label_ordinal_regression(pred: torch.Tensor) -> torch.Tensor:\n",
    "    return (pred > 0.5).cumprod(axis=1).sum(axis=1) - 1"
   ]
  },
  {
   "cell_type": "code",
   "execution_count": 10,
   "metadata": {},
   "outputs": [],
   "source": [
    "class OrdinalRegression:\n",
    "    def __init__(self, weights:Optional[torch.Tensor]) -> None:\n",
    "        if weights is None:\n",
    "            self.weights = torch.Tensor([1] * len(classes)).to(device)\n",
    "        else:\n",
    "            self.weights = weights\n",
    "    def __call__(self, predictions: torch.Tensor, targets: torch.Tensor) -> torch.Tensor:\n",
    "        modified_targets = torch.zeros_like(predictions)\n",
    "        for i, target in enumerate(targets):\n",
    "            modified_targets[i, 0 : target + 1] = 1\n",
    "        loss_function_name = str(config['processing']['ordinal_regression_loss']).lower()\n",
    "        if loss_function_name == 'mse':\n",
    "            loss = torch.mean((nn.MSELoss(reduction='none')(predictions, modified_targets) * self.weights).sum(axis=1))\n",
    "        elif loss_function_name == 'l1':\n",
    "            loss = torch.mean((nn.L1Loss(reduction='none')(predictions, modified_targets) * self.weights).sum(axis=1))\n",
    "        else:\n",
    "            raise RuntimeError(f'Unknown loss function: {loss_function_name}')\n",
    "        return loss"
   ]
  },
  {
   "cell_type": "code",
   "execution_count": 11,
   "metadata": {},
   "outputs": [],
   "source": [
    "def prediction_to_label_one_neuron_regression(pred: torch.Tensor) -> torch.Tensor:\n",
    "    return ((pred * max(classes)).round()).int().flatten()"
   ]
  },
  {
   "cell_type": "code",
   "execution_count": 12,
   "metadata": {},
   "outputs": [],
   "source": [
    "class OneNeuronRegression:\n",
    "    def __call__(self, predictions: torch.Tensor, targets: torch.Tensor) -> torch.Tensor:\n",
    "        modified_predictions = predictions.flatten()\n",
    "        classes_max = max(classes)\n",
    "        loss_function_name = str(config['processing']['ordinal_regression_loss']).lower()\n",
    "        if loss_function_name == 'mse':\n",
    "            loss = torch.mean(nn.MSELoss(reduction='none')(modified_predictions * classes_max, targets.float()))\n",
    "        elif loss_function_name == 'l1':\n",
    "            loss = torch.mean(nn.L1Loss(reduction='none')(modified_predictions * classes_max, targets.float()))\n",
    "        else:\n",
    "            raise RuntimeError(f'Unknown loss function: {loss_function_name}')\n",
    "        return loss"
   ]
  },
  {
   "attachments": {},
   "cell_type": "markdown",
   "metadata": {},
   "source": [
    "Load datasets and apply techniques like data augmentation or use a weighted sampler"
   ]
  },
  {
   "cell_type": "code",
   "execution_count": 13,
   "metadata": {
    "tags": []
   },
   "outputs": [],
   "source": [
    "dataset_transforms = [\n",
    "    transforms.RandomHorizontalFlip(),\n",
    "    transforms.RandomVerticalFlip(),\n",
    "]\n",
    "composed_transforms = transforms.Compose(dataset_transforms)"
   ]
  },
  {
   "cell_type": "code",
   "execution_count": 14,
   "metadata": {},
   "outputs": [],
   "source": [
    "use_manual_labels = config['processing']['use_manual_labels']"
   ]
  },
  {
   "cell_type": "code",
   "execution_count": 15,
   "metadata": {
    "tags": []
   },
   "outputs": [],
   "source": [
    "train_dataset       = AimlsseImageDataset(DatasetType.TRAINING,     dataset_dir, transfrom=composed_transforms, use_manual_labels=use_manual_labels)\n",
    "validation_dataset  = AimlsseImageDataset(DatasetType.VALIDATION,   dataset_dir, transfrom=None, use_manual_labels=use_manual_labels)"
   ]
  },
  {
   "cell_type": "code",
   "execution_count": 16,
   "metadata": {},
   "outputs": [],
   "source": [
    "def mean_std(loader:DataLoader):\n",
    "  sum, squared_sum, num_batches = 0,0,0\n",
    "  for data, _, _ in loader:\n",
    "    sum += torch.mean(data,dim=[0,1,2])\n",
    "    squared_sum += torch.mean(data**2,dim=[0,1,2])\n",
    "    num_batches += 1\n",
    "  mean = sum/num_batches\n",
    "  std = (squared_sum/num_batches - mean**2)**0.5\n",
    "  return mean, std"
   ]
  },
  {
   "cell_type": "code",
   "execution_count": 17,
   "metadata": {},
   "outputs": [],
   "source": [
    "def batch_normalization(dataset:AimlsseImageDataset, dataset_type:DatasetType, dataset_transforms):\n",
    "    mean, std = mean_std(dataset)\n",
    "    print(f'{dataset_type.name} - mean {mean:.3f}, std {std:.3f}')\n",
    "    if dataset_transforms is None:\n",
    "        dataset_transforms = []\n",
    "    return AimlsseImageDataset(dataset_type, dataset_dir,\n",
    "                               transfrom = transforms.Compose(dataset_transforms + [transforms.Normalize(mean, std)]),\n",
    "                               use_manual_labels=use_manual_labels)"
   ]
  },
  {
   "cell_type": "code",
   "execution_count": 18,
   "metadata": {},
   "outputs": [],
   "source": [
    "if config['processing']['batch_normalization']:\n",
    "    train_dataset       = batch_normalization(train_dataset, DatasetType.TRAINING, dataset_transforms)\n",
    "    validation_dataset  = batch_normalization(validation_dataset, DatasetType.VALIDATION, None)"
   ]
  },
  {
   "cell_type": "code",
   "execution_count": 19,
   "metadata": {
    "tags": []
   },
   "outputs": [],
   "source": [
    "if config['processing']['use_weighted_sampler']:\n",
    "    num_samples = len(train_dataset)\n",
    "    weights = [0] * num_samples\n",
    "    for i in range(num_samples):\n",
    "        label = train_dataset.get_label(i)\n",
    "        weights[i] = training_weights.loc[class_names]['weight'].iloc[label]\n",
    "    training_sampler = WeightedRandomSampler(weights, num_samples)\n",
    "    train_dataloader =  DataLoader(train_dataset,       batch_size=config['processing']['batch_size'], sampler=training_sampler)\n",
    "else:\n",
    "    train_dataloader =  DataLoader(train_dataset,       batch_size=config['processing']['batch_size'], shuffle=True)\n",
    "validation_dataloader = DataLoader(validation_dataset,  batch_size=config['processing']['batch_size'], shuffle=True)"
   ]
  },
  {
   "attachments": {},
   "cell_type": "markdown",
   "metadata": {},
   "source": [
    "If enabled in the config file, show example images of the dataset with corresponding labels"
   ]
  },
  {
   "cell_type": "code",
   "execution_count": 20,
   "metadata": {},
   "outputs": [],
   "source": [
    "sample_batch_index = 0"
   ]
  },
  {
   "cell_type": "code",
   "execution_count": 21,
   "metadata": {
    "tags": []
   },
   "outputs": [],
   "source": [
    "if config['output']['show_samples']:\n",
    "    plot_samples(train_dataset, config['processing']['batch_size'], sample_batch_index)\n",
    "    sample_batch_index += 1"
   ]
  },
  {
   "attachments": {},
   "cell_type": "markdown",
   "metadata": {},
   "source": [
    "Define all prerequisites that are necessary for model training, depending on the settings in the configuration file"
   ]
  },
  {
   "cell_type": "code",
   "execution_count": 22,
   "metadata": {
    "tags": []
   },
   "outputs": [
    {
     "name": "stdout",
     "output_type": "stream",
     "text": [
      "Loss weights: None\n"
     ]
    }
   ],
   "source": [
    "if config['processing']['use_weighted_loss_function']:\n",
    "    loss_function_weights = torch.tensor(training_weights['weight'].to_list())\n",
    "    loss_function_weights = loss_function_weights.to(device)\n",
    "else:\n",
    "    loss_function_weights = None\n",
    "print(f'Loss weights: {loss_function_weights}')\n",
    "\n",
    "if config['processing']['use_ordinal_regression']:\n",
    "    criterion = OrdinalRegression(loss_function_weights)\n",
    "    outputs_to_predictions = prediction_to_label_ordinal_regression\n",
    "elif config['processing']['use_one_neuron_regression']:\n",
    "    criterion = OneNeuronRegression()\n",
    "    if loss_function_weights is not None:\n",
    "        raise Warning('Unable to use one neuron regression with loss function weights')\n",
    "    outputs_to_predictions = prediction_to_label_one_neuron_regression\n",
    "else:\n",
    "    criterion = nn.CrossEntropyLoss(loss_function_weights)\n",
    "    outputs_to_predictions = lambda outputs: torch.max(outputs, 1)[1]\n",
    "\n",
    "learning_rate = math.pow(10, -config['processing']['learning_rate_exp'])\n",
    "weight_decay = math.pow(10, -config['processing']['weight_decay_exp']) if config['processing']['use_weight_decay'] else 0.0\n",
    "optimizer_name = str(config['processing']['optimizer']).lower()\n",
    "if optimizer_name == 'adam':\n",
    "    optimizer = optim.Adam(get_model_head(model).parameters(), lr=learning_rate, weight_decay=weight_decay)\n",
    "elif optimizer_name == 'sgd':\n",
    "    optimizer = optim.SGD(get_model_head(model).parameters(), lr=learning_rate, momentum=config['processing']['momentum'])\n",
    "scheduler = optim.lr_scheduler.StepLR(optimizer, step_size=7, gamma=0.1)"
   ]
  },
  {
   "attachments": {},
   "cell_type": "markdown",
   "metadata": {},
   "source": [
    "Train the machine learning model"
   ]
  },
  {
   "cell_type": "code",
   "execution_count": 24,
   "metadata": {
    "tags": []
   },
   "outputs": [
    {
     "name": "stdout",
     "output_type": "stream",
     "text": [
      "Model Checkpoints will be stored in: ML\\checkpoints\\chk.pt\n",
      "The results will be stored in: ML\\output\\efficientnet_v2_s_preset_3_16km_300_weighted_sampler_classification_dropout_20.pt\n",
      "Epoch 0/31\n",
      "----------\n"
     ]
    },
    {
     "data": {
      "application/vnd.jupyter.widget-view+json": {
       "model_id": "bdfb17fb605a4e5e9924ee1689f6fa47",
       "version_major": 2,
       "version_minor": 0
      },
      "text/plain": [
       "  0%|          | 0/638 [00:00<?, ?it/s]"
      ]
     },
     "metadata": {},
     "output_type": "display_data"
    },
    {
     "name": "stdout",
     "output_type": "stream",
     "text": [
      "Training took 163.0 [s]\n",
      "\tLoss: 0.4403 Acc: 0.4395\n",
      "\tCLR - Precision: 0.479 Recall: 0.615 F1-Score: 0.538\n",
      "\tFEW - Precision: 0.327 Recall: 0.229 F1-Score: 0.270\n",
      "\tSCT - Precision: 0.388 Recall: 0.355 F1-Score: 0.371\n",
      "\tBKN - Precision: 0.378 Recall: 0.282 F1-Score: 0.323\n",
      "\tOVC - Precision: 0.530 Recall: 0.721 F1-Score: 0.611\n",
      "Total -> Precision: 0.420 Recall: 0.439 F1-Score: 0.422\n"
     ]
    },
    {
     "data": {
      "application/vnd.jupyter.widget-view+json": {
       "model_id": "f25f12ed33a04618855e62dfde978748",
       "version_major": 2,
       "version_minor": 0
      },
      "text/plain": [
       "  0%|          | 0/80 [00:00<?, ?it/s]"
      ]
     },
     "metadata": {},
     "output_type": "display_data"
    },
    {
     "name": "stdout",
     "output_type": "stream",
     "text": [
      "Validation took 13.0 [s]\n",
      "\tLoss: 42.7694 Acc: 0.6320\n",
      "\tCLR - Precision: 0.879 Recall: 0.754 F1-Score: 0.812\n",
      "\tFEW - Precision: 0.152 Recall: 0.067 F1-Score: 0.093\n",
      "\tSCT - Precision: 0.209 Recall: 0.441 F1-Score: 0.284\n",
      "\tBKN - Precision: 0.312 Recall: 0.152 F1-Score: 0.204\n",
      "\tOVC - Precision: 0.603 Recall: 0.823 F1-Score: 0.696\n",
      "Total -> Precision: 0.650 Recall: 0.632 F1-Score: 0.627\n",
      "Epoch 1/31\n",
      "----------\n"
     ]
    },
    {
     "data": {
      "application/vnd.jupyter.widget-view+json": {
       "model_id": "0e1cdeca6e124f2aae3b55943f90dbbb",
       "version_major": 2,
       "version_minor": 0
      },
      "text/plain": [
       "  0%|          | 0/638 [00:00<?, ?it/s]"
      ]
     },
     "metadata": {},
     "output_type": "display_data"
    },
    {
     "name": "stdout",
     "output_type": "stream",
     "text": [
      "Training took 145.1 [s]\n",
      "\tLoss: 0.4175 Acc: 0.4758\n",
      "\tCLR - Precision: 0.500 Recall: 0.616 F1-Score: 0.552\n",
      "\tFEW - Precision: 0.391 Recall: 0.297 F1-Score: 0.338\n",
      "\tSCT - Precision: 0.412 Recall: 0.343 F1-Score: 0.374\n",
      "\tBKN - Precision: 0.396 Recall: 0.330 F1-Score: 0.360\n",
      "\tOVC - Precision: 0.586 Recall: 0.778 F1-Score: 0.668\n",
      "Total -> Precision: 0.458 Recall: 0.476 F1-Score: 0.461\n"
     ]
    },
    {
     "data": {
      "application/vnd.jupyter.widget-view+json": {
       "model_id": "d7d61fbc817645d4bd9bc2c975eac6a4",
       "version_major": 2,
       "version_minor": 0
      },
      "text/plain": [
       "  0%|          | 0/80 [00:00<?, ?it/s]"
      ]
     },
     "metadata": {},
     "output_type": "display_data"
    },
    {
     "name": "stdout",
     "output_type": "stream",
     "text": [
      "Validation took 8.0 [s]\n",
      "\tLoss: 683.9765 Acc: 0.6304\n",
      "\tCLR - Precision: 0.859 Recall: 0.737 F1-Score: 0.793\n",
      "\tFEW - Precision: 0.086 Recall: 0.107 F1-Score: 0.095\n",
      "\tSCT - Precision: 0.277 Recall: 0.280 F1-Score: 0.278\n",
      "\tBKN - Precision: 0.344 Recall: 0.335 F1-Score: 0.340\n",
      "\tOVC - Precision: 0.638 Recall: 0.797 F1-Score: 0.708\n",
      "Total -> Precision: 0.653 Recall: 0.630 F1-Score: 0.637\n",
      "Epoch 2/31\n",
      "----------\n"
     ]
    },
    {
     "data": {
      "application/vnd.jupyter.widget-view+json": {
       "model_id": "6cf57b896b0f41a18548202c0969d43f",
       "version_major": 2,
       "version_minor": 0
      },
      "text/plain": [
       "  0%|          | 0/638 [00:00<?, ?it/s]"
      ]
     },
     "metadata": {},
     "output_type": "display_data"
    },
    {
     "name": "stdout",
     "output_type": "stream",
     "text": [
      "Training took 134.9 [s]\n",
      "\tLoss: 0.4153 Acc: 0.4812\n",
      "\tCLR - Precision: 0.515 Recall: 0.624 F1-Score: 0.564\n",
      "\tFEW - Precision: 0.404 Recall: 0.312 F1-Score: 0.352\n",
      "\tSCT - Precision: 0.426 Recall: 0.367 F1-Score: 0.394\n",
      "\tBKN - Precision: 0.389 Recall: 0.338 F1-Score: 0.362\n",
      "\tOVC - Precision: 0.593 Recall: 0.762 F1-Score: 0.667\n",
      "Total -> Precision: 0.466 Recall: 0.481 F1-Score: 0.468\n"
     ]
    },
    {
     "data": {
      "application/vnd.jupyter.widget-view+json": {
       "model_id": "13827a24132d45b988c71773a1853300",
       "version_major": 2,
       "version_minor": 0
      },
      "text/plain": [
       "  0%|          | 0/80 [00:00<?, ?it/s]"
      ]
     },
     "metadata": {},
     "output_type": "display_data"
    },
    {
     "name": "stdout",
     "output_type": "stream",
     "text": [
      "Validation took 7.3 [s]\n",
      "\tLoss: 258.0520 Acc: 0.6052\n",
      "\tCLR - Precision: 0.904 Recall: 0.696 F1-Score: 0.787\n",
      "\tFEW - Precision: 0.105 Recall: 0.107 F1-Score: 0.106\n",
      "\tSCT - Precision: 0.212 Recall: 0.409 F1-Score: 0.279\n",
      "\tBKN - Precision: 0.290 Recall: 0.310 F1-Score: 0.300\n",
      "\tOVC - Precision: 0.647 Recall: 0.751 F1-Score: 0.695\n",
      "Total -> Precision: 0.668 Recall: 0.605 F1-Score: 0.627\n",
      "Epoch 3/31\n",
      "----------\n"
     ]
    },
    {
     "data": {
      "application/vnd.jupyter.widget-view+json": {
       "model_id": "c6ff9da72111458ca7bd3c65220dea0c",
       "version_major": 2,
       "version_minor": 0
      },
      "text/plain": [
       "  0%|          | 0/638 [00:00<?, ?it/s]"
      ]
     },
     "metadata": {},
     "output_type": "display_data"
    },
    {
     "name": "stdout",
     "output_type": "stream",
     "text": [
      "Training took 133.3 [s]\n",
      "\tLoss: 0.4091 Acc: 0.4834\n",
      "\tCLR - Precision: 0.536 Recall: 0.642 F1-Score: 0.584\n",
      "\tFEW - Precision: 0.404 Recall: 0.323 F1-Score: 0.359\n",
      "\tSCT - Precision: 0.397 Recall: 0.335 F1-Score: 0.363\n",
      "\tBKN - Precision: 0.408 Recall: 0.349 F1-Score: 0.376\n",
      "\tOVC - Precision: 0.588 Recall: 0.764 F1-Score: 0.665\n",
      "Total -> Precision: 0.467 Recall: 0.483 F1-Score: 0.470\n"
     ]
    },
    {
     "data": {
      "application/vnd.jupyter.widget-view+json": {
       "model_id": "787a7848eaf64d98a82b36e09d53bb2b",
       "version_major": 2,
       "version_minor": 0
      },
      "text/plain": [
       "  0%|          | 0/80 [00:00<?, ?it/s]"
      ]
     },
     "metadata": {},
     "output_type": "display_data"
    },
    {
     "name": "stdout",
     "output_type": "stream",
     "text": [
      "Validation took 7.6 [s]\n",
      "\tLoss: 0.3604 Acc: 0.6351\n",
      "\tCLR - Precision: 0.890 Recall: 0.737 F1-Score: 0.806\n",
      "\tFEW - Precision: 0.125 Recall: 0.120 F1-Score: 0.122\n",
      "\tSCT - Precision: 0.220 Recall: 0.301 F1-Score: 0.255\n",
      "\tBKN - Precision: 0.309 Recall: 0.354 F1-Score: 0.330\n",
      "\tOVC - Precision: 0.673 Recall: 0.797 F1-Score: 0.730\n",
      "Total -> Precision: 0.671 Recall: 0.635 F1-Score: 0.648\n",
      "Epoch 4/31\n",
      "----------\n"
     ]
    },
    {
     "data": {
      "application/vnd.jupyter.widget-view+json": {
       "model_id": "34d0cf6dfbf44eceac7f6e8f55bdc4bb",
       "version_major": 2,
       "version_minor": 0
      },
      "text/plain": [
       "  0%|          | 0/638 [00:00<?, ?it/s]"
      ]
     },
     "metadata": {},
     "output_type": "display_data"
    },
    {
     "name": "stdout",
     "output_type": "stream",
     "text": [
      "Training took 130.2 [s]\n",
      "\tLoss: 0.4063 Acc: 0.4851\n",
      "\tCLR - Precision: 0.541 Recall: 0.644 F1-Score: 0.588\n",
      "\tFEW - Precision: 0.409 Recall: 0.332 F1-Score: 0.367\n",
      "\tSCT - Precision: 0.419 Recall: 0.337 F1-Score: 0.374\n",
      "\tBKN - Precision: 0.390 Recall: 0.369 F1-Score: 0.379\n",
      "\tOVC - Precision: 0.595 Recall: 0.744 F1-Score: 0.661\n",
      "Total -> Precision: 0.471 Recall: 0.485 F1-Score: 0.474\n"
     ]
    },
    {
     "data": {
      "application/vnd.jupyter.widget-view+json": {
       "model_id": "adf3befaabc843c881a55f6fae4e7ac5",
       "version_major": 2,
       "version_minor": 0
      },
      "text/plain": [
       "  0%|          | 0/80 [00:00<?, ?it/s]"
      ]
     },
     "metadata": {},
     "output_type": "display_data"
    },
    {
     "name": "stdout",
     "output_type": "stream",
     "text": [
      "Validation took 7.2 [s]\n",
      "\tLoss: 25.5610 Acc: 0.6084\n",
      "\tCLR - Precision: 0.905 Recall: 0.688 F1-Score: 0.782\n",
      "\tFEW - Precision: 0.125 Recall: 0.227 F1-Score: 0.161\n",
      "\tSCT - Precision: 0.258 Recall: 0.247 F1-Score: 0.253\n",
      "\tBKN - Precision: 0.275 Recall: 0.316 F1-Score: 0.294\n",
      "\tOVC - Precision: 0.645 Recall: 0.797 F1-Score: 0.713\n",
      "Total -> Precision: 0.671 Recall: 0.608 F1-Score: 0.629\n",
      "Epoch 5/31\n",
      "----------\n"
     ]
    },
    {
     "data": {
      "application/vnd.jupyter.widget-view+json": {
       "model_id": "14e11f3e557549b8b78881ab0a5653a2",
       "version_major": 2,
       "version_minor": 0
      },
      "text/plain": [
       "  0%|          | 0/638 [00:00<?, ?it/s]"
      ]
     },
     "metadata": {},
     "output_type": "display_data"
    },
    {
     "name": "stdout",
     "output_type": "stream",
     "text": [
      "Training took 132.7 [s]\n",
      "\tLoss: 0.4062 Acc: 0.4978\n",
      "\tCLR - Precision: 0.555 Recall: 0.636 F1-Score: 0.593\n",
      "\tFEW - Precision: 0.422 Recall: 0.354 F1-Score: 0.385\n",
      "\tSCT - Precision: 0.413 Recall: 0.349 F1-Score: 0.379\n",
      "\tBKN - Precision: 0.405 Recall: 0.375 F1-Score: 0.390\n",
      "\tOVC - Precision: 0.620 Recall: 0.760 F1-Score: 0.683\n",
      "Total -> Precision: 0.484 Recall: 0.498 F1-Score: 0.488\n"
     ]
    },
    {
     "data": {
      "application/vnd.jupyter.widget-view+json": {
       "model_id": "8dad348c14c243cea3aaa21a682ec6ff",
       "version_major": 2,
       "version_minor": 0
      },
      "text/plain": [
       "  0%|          | 0/80 [00:00<?, ?it/s]"
      ]
     },
     "metadata": {},
     "output_type": "display_data"
    },
    {
     "name": "stdout",
     "output_type": "stream",
     "text": [
      "Validation took 8.1 [s]\n",
      "\tLoss: 44.0775 Acc: 0.6099\n",
      "\tCLR - Precision: 0.893 Recall: 0.691 F1-Score: 0.779\n",
      "\tFEW - Precision: 0.111 Recall: 0.147 F1-Score: 0.126\n",
      "\tSCT - Precision: 0.226 Recall: 0.323 F1-Score: 0.265\n",
      "\tBKN - Precision: 0.270 Recall: 0.278 F1-Score: 0.274\n",
      "\tOVC - Precision: 0.653 Recall: 0.813 F1-Score: 0.724\n",
      "Total -> Precision: 0.662 Recall: 0.610 F1-Score: 0.627\n",
      "Epoch 6/31\n",
      "----------\n"
     ]
    },
    {
     "data": {
      "application/vnd.jupyter.widget-view+json": {
       "model_id": "7c8cd36a035f48ab9913116e8b0c9c26",
       "version_major": 2,
       "version_minor": 0
      },
      "text/plain": [
       "  0%|          | 0/638 [00:00<?, ?it/s]"
      ]
     },
     "metadata": {},
     "output_type": "display_data"
    },
    {
     "name": "stdout",
     "output_type": "stream",
     "text": [
      "Training took 134.2 [s]\n",
      "\tLoss: 0.4082 Acc: 0.4926\n",
      "\tCLR - Precision: 0.535 Recall: 0.638 F1-Score: 0.582\n",
      "\tFEW - Precision: 0.408 Recall: 0.326 F1-Score: 0.362\n",
      "\tSCT - Precision: 0.426 Recall: 0.363 F1-Score: 0.392\n",
      "\tBKN - Precision: 0.400 Recall: 0.364 F1-Score: 0.381\n",
      "\tOVC - Precision: 0.614 Recall: 0.755 F1-Score: 0.677\n",
      "Total -> Precision: 0.478 Recall: 0.493 F1-Score: 0.481\n"
     ]
    },
    {
     "data": {
      "application/vnd.jupyter.widget-view+json": {
       "model_id": "f26a279b47a94d9dbe84058ce0790e95",
       "version_major": 2,
       "version_minor": 0
      },
      "text/plain": [
       "  0%|          | 0/80 [00:00<?, ?it/s]"
      ]
     },
     "metadata": {},
     "output_type": "display_data"
    },
    {
     "name": "stdout",
     "output_type": "stream",
     "text": [
      "Validation took 8.0 [s]\n",
      "\tLoss: 6.6215 Acc: 0.6123\n",
      "\tCLR - Precision: 0.910 Recall: 0.713 F1-Score: 0.800\n",
      "\tFEW - Precision: 0.111 Recall: 0.147 F1-Score: 0.126\n",
      "\tSCT - Precision: 0.234 Recall: 0.344 F1-Score: 0.278\n",
      "\tBKN - Precision: 0.282 Recall: 0.361 F1-Score: 0.317\n",
      "\tOVC - Precision: 0.671 Recall: 0.728 F1-Score: 0.698\n",
      "Total -> Precision: 0.678 Recall: 0.612 F1-Score: 0.637\n",
      "Epoch 7/31\n",
      "----------\n"
     ]
    },
    {
     "data": {
      "application/vnd.jupyter.widget-view+json": {
       "model_id": "6e349932378941dc8b88408ba42584d9",
       "version_major": 2,
       "version_minor": 0
      },
      "text/plain": [
       "  0%|          | 0/638 [00:00<?, ?it/s]"
      ]
     },
     "metadata": {},
     "output_type": "display_data"
    },
    {
     "name": "stdout",
     "output_type": "stream",
     "text": [
      "Training took 132.9 [s]\n",
      "\tLoss: 0.4054 Acc: 0.4908\n",
      "\tCLR - Precision: 0.542 Recall: 0.626 F1-Score: 0.581\n",
      "\tFEW - Precision: 0.421 Recall: 0.329 F1-Score: 0.370\n",
      "\tSCT - Precision: 0.423 Recall: 0.374 F1-Score: 0.397\n",
      "\tBKN - Precision: 0.393 Recall: 0.382 F1-Score: 0.388\n",
      "\tOVC - Precision: 0.616 Recall: 0.747 F1-Score: 0.675\n",
      "Total -> Precision: 0.479 Recall: 0.491 F1-Score: 0.481\n"
     ]
    },
    {
     "data": {
      "application/vnd.jupyter.widget-view+json": {
       "model_id": "c46c5c52ea7b4ff1a26616b9681fa7db",
       "version_major": 2,
       "version_minor": 0
      },
      "text/plain": [
       "  0%|          | 0/80 [00:00<?, ?it/s]"
      ]
     },
     "metadata": {},
     "output_type": "display_data"
    },
    {
     "name": "stdout",
     "output_type": "stream",
     "text": [
      "Validation took 7.8 [s]\n",
      "\tLoss: 58.0643 Acc: 0.6359\n",
      "\tCLR - Precision: 0.919 Recall: 0.707 F1-Score: 0.799\n",
      "\tFEW - Precision: 0.138 Recall: 0.147 F1-Score: 0.142\n",
      "\tSCT - Precision: 0.252 Recall: 0.419 F1-Score: 0.315\n",
      "\tBKN - Precision: 0.366 Recall: 0.335 F1-Score: 0.350\n",
      "\tOVC - Precision: 0.636 Recall: 0.830 F1-Score: 0.720\n",
      "Total -> Precision: 0.687 Recall: 0.636 F1-Score: 0.650\n",
      "Epoch 8/31\n",
      "----------\n"
     ]
    },
    {
     "data": {
      "application/vnd.jupyter.widget-view+json": {
       "model_id": "022e082dc4794f0d853b54bead4ccae9",
       "version_major": 2,
       "version_minor": 0
      },
      "text/plain": [
       "  0%|          | 0/638 [00:00<?, ?it/s]"
      ]
     },
     "metadata": {},
     "output_type": "display_data"
    },
    {
     "name": "stdout",
     "output_type": "stream",
     "text": [
      "Training took 132.8 [s]\n",
      "\tLoss: 0.3976 Acc: 0.5031\n",
      "\tCLR - Precision: 0.548 Recall: 0.658 F1-Score: 0.598\n",
      "\tFEW - Precision: 0.422 Recall: 0.348 F1-Score: 0.382\n",
      "\tSCT - Precision: 0.423 Recall: 0.350 F1-Score: 0.383\n",
      "\tBKN - Precision: 0.415 Recall: 0.381 F1-Score: 0.397\n",
      "\tOVC - Precision: 0.630 Recall: 0.764 F1-Score: 0.690\n",
      "Total -> Precision: 0.489 Recall: 0.503 F1-Score: 0.492\n"
     ]
    },
    {
     "data": {
      "application/vnd.jupyter.widget-view+json": {
       "model_id": "f1b0cfc2e0cd496b9d5c8b5fbd297c4c",
       "version_major": 2,
       "version_minor": 0
      },
      "text/plain": [
       "  0%|          | 0/80 [00:00<?, ?it/s]"
      ]
     },
     "metadata": {},
     "output_type": "display_data"
    },
    {
     "name": "stdout",
     "output_type": "stream",
     "text": [
      "Validation took 7.7 [s]\n",
      "\tLoss: 0.3458 Acc: 0.6446\n",
      "\tCLR - Precision: 0.883 Recall: 0.759 F1-Score: 0.816\n",
      "\tFEW - Precision: 0.137 Recall: 0.173 F1-Score: 0.153\n",
      "\tSCT - Precision: 0.258 Recall: 0.355 F1-Score: 0.299\n",
      "\tBKN - Precision: 0.307 Recall: 0.291 F1-Score: 0.299\n",
      "\tOVC - Precision: 0.695 Recall: 0.793 F1-Score: 0.741\n",
      "Total -> Precision: 0.676 Recall: 0.645 F1-Score: 0.657\n",
      "Epoch 9/31\n",
      "----------\n"
     ]
    },
    {
     "data": {
      "application/vnd.jupyter.widget-view+json": {
       "model_id": "8c632cfbd4da49cdbb678de49c44f5d9",
       "version_major": 2,
       "version_minor": 0
      },
      "text/plain": [
       "  0%|          | 0/638 [00:00<?, ?it/s]"
      ]
     },
     "metadata": {},
     "output_type": "display_data"
    },
    {
     "name": "stdout",
     "output_type": "stream",
     "text": [
      "Training took 133.8 [s]\n",
      "\tLoss: 0.3986 Acc: 0.5066\n",
      "\tCLR - Precision: 0.533 Recall: 0.639 F1-Score: 0.581\n",
      "\tFEW - Precision: 0.420 Recall: 0.333 F1-Score: 0.372\n",
      "\tSCT - Precision: 0.447 Recall: 0.385 F1-Score: 0.414\n",
      "\tBKN - Precision: 0.419 Recall: 0.378 F1-Score: 0.397\n",
      "\tOVC - Precision: 0.637 Recall: 0.781 F1-Score: 0.702\n",
      "Total -> Precision: 0.493 Recall: 0.507 F1-Score: 0.496\n"
     ]
    },
    {
     "data": {
      "application/vnd.jupyter.widget-view+json": {
       "model_id": "f4627f92c28240a4ba27cb7a47ea2f74",
       "version_major": 2,
       "version_minor": 0
      },
      "text/plain": [
       "  0%|          | 0/80 [00:00<?, ?it/s]"
      ]
     },
     "metadata": {},
     "output_type": "display_data"
    },
    {
     "name": "stdout",
     "output_type": "stream",
     "text": [
      "Validation took 7.7 [s]\n",
      "\tLoss: 0.3353 Acc: 0.6430\n",
      "\tCLR - Precision: 0.901 Recall: 0.760 F1-Score: 0.825\n",
      "\tFEW - Precision: 0.130 Recall: 0.133 F1-Score: 0.132\n",
      "\tSCT - Precision: 0.223 Recall: 0.398 F1-Score: 0.286\n",
      "\tBKN - Precision: 0.314 Recall: 0.278 F1-Score: 0.295\n",
      "\tOVC - Precision: 0.690 Recall: 0.787 F1-Score: 0.735\n",
      "Total -> Precision: 0.682 Recall: 0.643 F1-Score: 0.657\n",
      "Epoch 10/31\n",
      "----------\n"
     ]
    },
    {
     "data": {
      "application/vnd.jupyter.widget-view+json": {
       "model_id": "4d3da73d0f2545ea8eec7a2e859ba37d",
       "version_major": 2,
       "version_minor": 0
      },
      "text/plain": [
       "  0%|          | 0/638 [00:00<?, ?it/s]"
      ]
     },
     "metadata": {},
     "output_type": "display_data"
    },
    {
     "name": "stdout",
     "output_type": "stream",
     "text": [
      "Training took 135.6 [s]\n",
      "\tLoss: 0.4044 Acc: 0.4931\n",
      "\tCLR - Precision: 0.546 Recall: 0.645 F1-Score: 0.591\n",
      "\tFEW - Precision: 0.413 Recall: 0.332 F1-Score: 0.368\n",
      "\tSCT - Precision: 0.425 Recall: 0.366 F1-Score: 0.393\n",
      "\tBKN - Precision: 0.385 Recall: 0.352 F1-Score: 0.368\n",
      "\tOVC - Precision: 0.617 Recall: 0.760 F1-Score: 0.681\n",
      "Total -> Precision: 0.478 Recall: 0.493 F1-Score: 0.482\n"
     ]
    },
    {
     "data": {
      "application/vnd.jupyter.widget-view+json": {
       "model_id": "8046cc8d8bd943ed9395bdcc44d3c8b2",
       "version_major": 2,
       "version_minor": 0
      },
      "text/plain": [
       "  0%|          | 0/80 [00:00<?, ?it/s]"
      ]
     },
     "metadata": {},
     "output_type": "display_data"
    },
    {
     "name": "stdout",
     "output_type": "stream",
     "text": [
      "Validation took 7.9 [s]\n",
      "\tLoss: 0.3386 Acc: 0.6454\n",
      "\tCLR - Precision: 0.885 Recall: 0.759 F1-Score: 0.817\n",
      "\tFEW - Precision: 0.131 Recall: 0.147 F1-Score: 0.138\n",
      "\tSCT - Precision: 0.244 Recall: 0.344 F1-Score: 0.286\n",
      "\tBKN - Precision: 0.324 Recall: 0.304 F1-Score: 0.314\n",
      "\tOVC - Precision: 0.680 Recall: 0.800 F1-Score: 0.735\n",
      "Total -> Precision: 0.674 Recall: 0.645 F1-Score: 0.656\n",
      "Epoch 11/31\n",
      "----------\n"
     ]
    },
    {
     "data": {
      "application/vnd.jupyter.widget-view+json": {
       "model_id": "fe3eb3dedcbf4314908a729959370de7",
       "version_major": 2,
       "version_minor": 0
      },
      "text/plain": [
       "  0%|          | 0/638 [00:00<?, ?it/s]"
      ]
     },
     "metadata": {},
     "output_type": "display_data"
    },
    {
     "name": "stdout",
     "output_type": "stream",
     "text": [
      "Training took 134.7 [s]\n",
      "\tLoss: 0.4048 Acc: 0.5003\n",
      "\tCLR - Precision: 0.549 Recall: 0.646 F1-Score: 0.593\n",
      "\tFEW - Precision: 0.431 Recall: 0.357 F1-Score: 0.391\n",
      "\tSCT - Precision: 0.429 Recall: 0.368 F1-Score: 0.396\n",
      "\tBKN - Precision: 0.419 Recall: 0.364 F1-Score: 0.389\n",
      "\tOVC - Precision: 0.604 Recall: 0.768 F1-Score: 0.676\n",
      "Total -> Precision: 0.486 Recall: 0.500 F1-Score: 0.489\n"
     ]
    },
    {
     "data": {
      "application/vnd.jupyter.widget-view+json": {
       "model_id": "7ca4e4d7ee294ce6889a4d5c6ac7b718",
       "version_major": 2,
       "version_minor": 0
      },
      "text/plain": [
       "  0%|          | 0/80 [00:00<?, ?it/s]"
      ]
     },
     "metadata": {},
     "output_type": "display_data"
    },
    {
     "name": "stdout",
     "output_type": "stream",
     "text": [
      "Validation took 8.0 [s]\n",
      "\tLoss: 0.3408 Acc: 0.6399\n",
      "\tCLR - Precision: 0.915 Recall: 0.726 F1-Score: 0.809\n",
      "\tFEW - Precision: 0.134 Recall: 0.173 F1-Score: 0.151\n",
      "\tSCT - Precision: 0.265 Recall: 0.387 F1-Score: 0.314\n",
      "\tBKN - Precision: 0.316 Recall: 0.316 F1-Score: 0.316\n",
      "\tOVC - Precision: 0.672 Recall: 0.820 F1-Score: 0.739\n",
      "Total -> Precision: 0.688 Recall: 0.640 F1-Score: 0.656\n",
      "Epoch 12/31\n",
      "----------\n"
     ]
    },
    {
     "data": {
      "application/vnd.jupyter.widget-view+json": {
       "model_id": "e421095d6165412d82169d441be018a2",
       "version_major": 2,
       "version_minor": 0
      },
      "text/plain": [
       "  0%|          | 0/638 [00:00<?, ?it/s]"
      ]
     },
     "metadata": {},
     "output_type": "display_data"
    },
    {
     "name": "stdout",
     "output_type": "stream",
     "text": [
      "Training took 137.0 [s]\n",
      "\tLoss: 0.4042 Acc: 0.4917\n",
      "\tCLR - Precision: 0.549 Recall: 0.640 F1-Score: 0.591\n",
      "\tFEW - Precision: 0.422 Recall: 0.353 F1-Score: 0.385\n",
      "\tSCT - Precision: 0.427 Recall: 0.347 F1-Score: 0.383\n",
      "\tBKN - Precision: 0.409 Recall: 0.381 F1-Score: 0.394\n",
      "\tOVC - Precision: 0.592 Recall: 0.747 F1-Score: 0.661\n",
      "Total -> Precision: 0.479 Recall: 0.492 F1-Score: 0.481\n"
     ]
    },
    {
     "data": {
      "application/vnd.jupyter.widget-view+json": {
       "model_id": "da12b60b6eec4ea1b961506ec20fbde6",
       "version_major": 2,
       "version_minor": 0
      },
      "text/plain": [
       "  0%|          | 0/80 [00:00<?, ?it/s]"
      ]
     },
     "metadata": {},
     "output_type": "display_data"
    },
    {
     "name": "stdout",
     "output_type": "stream",
     "text": [
      "Validation took 7.7 [s]\n",
      "\tLoss: 0.3468 Acc: 0.6233\n",
      "\tCLR - Precision: 0.915 Recall: 0.705 F1-Score: 0.796\n",
      "\tFEW - Precision: 0.098 Recall: 0.107 F1-Score: 0.102\n",
      "\tSCT - Precision: 0.214 Recall: 0.323 F1-Score: 0.258\n",
      "\tBKN - Precision: 0.323 Recall: 0.380 F1-Score: 0.349\n",
      "\tOVC - Precision: 0.659 Recall: 0.797 F1-Score: 0.721\n",
      "Total -> Precision: 0.680 Recall: 0.623 F1-Score: 0.642\n",
      "Epoch 13/31\n",
      "----------\n"
     ]
    },
    {
     "data": {
      "application/vnd.jupyter.widget-view+json": {
       "model_id": "cefd3f37c15c4cc09c767fd7ab935b6f",
       "version_major": 2,
       "version_minor": 0
      },
      "text/plain": [
       "  0%|          | 0/638 [00:00<?, ?it/s]"
      ]
     },
     "metadata": {},
     "output_type": "display_data"
    },
    {
     "ename": "KeyboardInterrupt",
     "evalue": "",
     "output_type": "error",
     "traceback": [
      "\u001b[1;31m---------------------------------------------------------------------------\u001b[0m",
      "\u001b[1;31mKeyboardInterrupt\u001b[0m                         Traceback (most recent call last)",
      "Cell \u001b[1;32mIn[24], line 6\u001b[0m\n\u001b[0;32m      4\u001b[0m output_filepath \u001b[39m=\u001b[39m os\u001b[39m.\u001b[39mpath\u001b[39m.\u001b[39mjoin(config[\u001b[39m'\u001b[39m\u001b[39mpaths\u001b[39m\u001b[39m'\u001b[39m][\u001b[39m'\u001b[39m\u001b[39mmachine_learning_dir\u001b[39m\u001b[39m'\u001b[39m], \u001b[39m'\u001b[39m\u001b[39moutput\u001b[39m\u001b[39m'\u001b[39m, config[\u001b[39m'\u001b[39m\u001b[39moutput\u001b[39m\u001b[39m'\u001b[39m][\u001b[39m'\u001b[39m\u001b[39moutput_name\u001b[39m\u001b[39m'\u001b[39m])\n\u001b[0;32m      5\u001b[0m \u001b[39mprint\u001b[39m(\u001b[39mf\u001b[39m\u001b[39m'\u001b[39m\u001b[39mThe results will be stored in: \u001b[39m\u001b[39m{\u001b[39;00moutput_filepath\u001b[39m}\u001b[39;00m\u001b[39m'\u001b[39m)\n\u001b[1;32m----> 6\u001b[0m model_trained \u001b[39m=\u001b[39m train_model(model, device, model_data, criterion, outputs_to_predictions, optimizer, scheduler,\n\u001b[0;32m      7\u001b[0m                             checkpoint_filepath, num_epochs\u001b[39m=\u001b[39;49mconfig[\u001b[39m'\u001b[39;49m\u001b[39mprocessing\u001b[39;49m\u001b[39m'\u001b[39;49m][\u001b[39m'\u001b[39;49m\u001b[39mnum_epochs\u001b[39;49m\u001b[39m'\u001b[39;49m],\n\u001b[0;32m      8\u001b[0m                             batch_accumulation\u001b[39m=\u001b[39;49mconfig[\u001b[39m'\u001b[39;49m\u001b[39mprocessing\u001b[39;49m\u001b[39m'\u001b[39;49m][\u001b[39m'\u001b[39;49m\u001b[39mbatch_accumulation\u001b[39;49m\u001b[39m'\u001b[39;49m], config\u001b[39m=\u001b[39;49mconfig)\n\u001b[0;32m      9\u001b[0m \u001b[39mprint\u001b[39m(\u001b[39m'\u001b[39m\u001b[39mCopying data from checkpoint to results..\u001b[39m\u001b[39m'\u001b[39m)\n\u001b[0;32m     10\u001b[0m state \u001b[39m=\u001b[39m load_state(checkpoint_filepath)\n",
      "File \u001b[1;32mc:\\Users\\erikw\\Documents\\Uni\\Master\\Semester 5\\Master Thesis\\python\\aimlsse\\notebooks\\ml_commons.py:283\u001b[0m, in \u001b[0;36mtrain_model\u001b[1;34m(model, device, data, criterion, outputs_to_predictions, optimizer, scheduler, checkpoint_filepath, num_epochs, batch_accumulation, load_checkpoint, config)\u001b[0m\n\u001b[0;32m    281\u001b[0m \u001b[39mif\u001b[39;00m batch_accumulation \u001b[39m==\u001b[39m \u001b[39m'\u001b[39m\u001b[39mall\u001b[39m\u001b[39m'\u001b[39m:\n\u001b[0;32m    282\u001b[0m     batch_accumulation \u001b[39m=\u001b[39m \u001b[39mlen\u001b[39m(dataloader)\n\u001b[1;32m--> 283\u001b[0m \u001b[39mfor\u001b[39;00m batch_index, (inputs, labels, indices) \u001b[39min\u001b[39;00m \u001b[39menumerate\u001b[39m(tqdm(dataloader)):\n\u001b[0;32m    284\u001b[0m     inputs \u001b[39m=\u001b[39m inputs\u001b[39m.\u001b[39mto(device)\n\u001b[0;32m    285\u001b[0m     labels \u001b[39m=\u001b[39m labels\u001b[39m.\u001b[39mto(device)\n",
      "File \u001b[1;32mc:\\Users\\erikw\\anaconda3\\lib\\site-packages\\tqdm\\notebook.py:254\u001b[0m, in \u001b[0;36mtqdm_notebook.__iter__\u001b[1;34m(self)\u001b[0m\n\u001b[0;32m    252\u001b[0m \u001b[39mtry\u001b[39;00m:\n\u001b[0;32m    253\u001b[0m     it \u001b[39m=\u001b[39m \u001b[39msuper\u001b[39m(tqdm_notebook, \u001b[39mself\u001b[39m)\u001b[39m.\u001b[39m\u001b[39m__iter__\u001b[39m()\n\u001b[1;32m--> 254\u001b[0m     \u001b[39mfor\u001b[39;00m obj \u001b[39min\u001b[39;00m it:\n\u001b[0;32m    255\u001b[0m         \u001b[39m# return super(tqdm...) will not catch exception\u001b[39;00m\n\u001b[0;32m    256\u001b[0m         \u001b[39myield\u001b[39;00m obj\n\u001b[0;32m    257\u001b[0m \u001b[39m# NB: except ... [ as ...] breaks IPython async KeyboardInterrupt\u001b[39;00m\n",
      "File \u001b[1;32mc:\\Users\\erikw\\anaconda3\\lib\\site-packages\\tqdm\\std.py:1178\u001b[0m, in \u001b[0;36mtqdm.__iter__\u001b[1;34m(self)\u001b[0m\n\u001b[0;32m   1175\u001b[0m time \u001b[39m=\u001b[39m \u001b[39mself\u001b[39m\u001b[39m.\u001b[39m_time\n\u001b[0;32m   1177\u001b[0m \u001b[39mtry\u001b[39;00m:\n\u001b[1;32m-> 1178\u001b[0m     \u001b[39mfor\u001b[39;00m obj \u001b[39min\u001b[39;00m iterable:\n\u001b[0;32m   1179\u001b[0m         \u001b[39myield\u001b[39;00m obj\n\u001b[0;32m   1180\u001b[0m         \u001b[39m# Update and possibly print the progressbar.\u001b[39;00m\n\u001b[0;32m   1181\u001b[0m         \u001b[39m# Note: does not call self.update(1) for speed optimisation.\u001b[39;00m\n",
      "File \u001b[1;32mc:\\Users\\erikw\\anaconda3\\lib\\site-packages\\torch\\utils\\data\\dataloader.py:628\u001b[0m, in \u001b[0;36m_BaseDataLoaderIter.__next__\u001b[1;34m(self)\u001b[0m\n\u001b[0;32m    625\u001b[0m \u001b[39mif\u001b[39;00m \u001b[39mself\u001b[39m\u001b[39m.\u001b[39m_sampler_iter \u001b[39mis\u001b[39;00m \u001b[39mNone\u001b[39;00m:\n\u001b[0;32m    626\u001b[0m     \u001b[39m# TODO(https://github.com/pytorch/pytorch/issues/76750)\u001b[39;00m\n\u001b[0;32m    627\u001b[0m     \u001b[39mself\u001b[39m\u001b[39m.\u001b[39m_reset()  \u001b[39m# type: ignore[call-arg]\u001b[39;00m\n\u001b[1;32m--> 628\u001b[0m data \u001b[39m=\u001b[39m \u001b[39mself\u001b[39;49m\u001b[39m.\u001b[39;49m_next_data()\n\u001b[0;32m    629\u001b[0m \u001b[39mself\u001b[39m\u001b[39m.\u001b[39m_num_yielded \u001b[39m+\u001b[39m\u001b[39m=\u001b[39m \u001b[39m1\u001b[39m\n\u001b[0;32m    630\u001b[0m \u001b[39mif\u001b[39;00m \u001b[39mself\u001b[39m\u001b[39m.\u001b[39m_dataset_kind \u001b[39m==\u001b[39m _DatasetKind\u001b[39m.\u001b[39mIterable \u001b[39mand\u001b[39;00m \\\n\u001b[0;32m    631\u001b[0m         \u001b[39mself\u001b[39m\u001b[39m.\u001b[39m_IterableDataset_len_called \u001b[39mis\u001b[39;00m \u001b[39mnot\u001b[39;00m \u001b[39mNone\u001b[39;00m \u001b[39mand\u001b[39;00m \\\n\u001b[0;32m    632\u001b[0m         \u001b[39mself\u001b[39m\u001b[39m.\u001b[39m_num_yielded \u001b[39m>\u001b[39m \u001b[39mself\u001b[39m\u001b[39m.\u001b[39m_IterableDataset_len_called:\n",
      "File \u001b[1;32mc:\\Users\\erikw\\anaconda3\\lib\\site-packages\\torch\\utils\\data\\dataloader.py:671\u001b[0m, in \u001b[0;36m_SingleProcessDataLoaderIter._next_data\u001b[1;34m(self)\u001b[0m\n\u001b[0;32m    669\u001b[0m \u001b[39mdef\u001b[39;00m \u001b[39m_next_data\u001b[39m(\u001b[39mself\u001b[39m):\n\u001b[0;32m    670\u001b[0m     index \u001b[39m=\u001b[39m \u001b[39mself\u001b[39m\u001b[39m.\u001b[39m_next_index()  \u001b[39m# may raise StopIteration\u001b[39;00m\n\u001b[1;32m--> 671\u001b[0m     data \u001b[39m=\u001b[39m \u001b[39mself\u001b[39;49m\u001b[39m.\u001b[39;49m_dataset_fetcher\u001b[39m.\u001b[39;49mfetch(index)  \u001b[39m# may raise StopIteration\u001b[39;00m\n\u001b[0;32m    672\u001b[0m     \u001b[39mif\u001b[39;00m \u001b[39mself\u001b[39m\u001b[39m.\u001b[39m_pin_memory:\n\u001b[0;32m    673\u001b[0m         data \u001b[39m=\u001b[39m _utils\u001b[39m.\u001b[39mpin_memory\u001b[39m.\u001b[39mpin_memory(data, \u001b[39mself\u001b[39m\u001b[39m.\u001b[39m_pin_memory_device)\n",
      "File \u001b[1;32mc:\\Users\\erikw\\anaconda3\\lib\\site-packages\\torch\\utils\\data\\_utils\\fetch.py:58\u001b[0m, in \u001b[0;36m_MapDatasetFetcher.fetch\u001b[1;34m(self, possibly_batched_index)\u001b[0m\n\u001b[0;32m     56\u001b[0m         data \u001b[39m=\u001b[39m \u001b[39mself\u001b[39m\u001b[39m.\u001b[39mdataset\u001b[39m.\u001b[39m__getitems__(possibly_batched_index)\n\u001b[0;32m     57\u001b[0m     \u001b[39melse\u001b[39;00m:\n\u001b[1;32m---> 58\u001b[0m         data \u001b[39m=\u001b[39m [\u001b[39mself\u001b[39m\u001b[39m.\u001b[39mdataset[idx] \u001b[39mfor\u001b[39;00m idx \u001b[39min\u001b[39;00m possibly_batched_index]\n\u001b[0;32m     59\u001b[0m \u001b[39melse\u001b[39;00m:\n\u001b[0;32m     60\u001b[0m     data \u001b[39m=\u001b[39m \u001b[39mself\u001b[39m\u001b[39m.\u001b[39mdataset[possibly_batched_index]\n",
      "File \u001b[1;32mc:\\Users\\erikw\\anaconda3\\lib\\site-packages\\torch\\utils\\data\\_utils\\fetch.py:58\u001b[0m, in \u001b[0;36m<listcomp>\u001b[1;34m(.0)\u001b[0m\n\u001b[0;32m     56\u001b[0m         data \u001b[39m=\u001b[39m \u001b[39mself\u001b[39m\u001b[39m.\u001b[39mdataset\u001b[39m.\u001b[39m__getitems__(possibly_batched_index)\n\u001b[0;32m     57\u001b[0m     \u001b[39melse\u001b[39;00m:\n\u001b[1;32m---> 58\u001b[0m         data \u001b[39m=\u001b[39m [\u001b[39mself\u001b[39;49m\u001b[39m.\u001b[39;49mdataset[idx] \u001b[39mfor\u001b[39;00m idx \u001b[39min\u001b[39;00m possibly_batched_index]\n\u001b[0;32m     59\u001b[0m \u001b[39melse\u001b[39;00m:\n\u001b[0;32m     60\u001b[0m     data \u001b[39m=\u001b[39m \u001b[39mself\u001b[39m\u001b[39m.\u001b[39mdataset[possibly_batched_index]\n",
      "File \u001b[1;32mc:\\Users\\erikw\\Documents\\Uni\\Master\\Semester 5\\Master Thesis\\python\\aimlsse\\notebooks\\ml_commons.py:67\u001b[0m, in \u001b[0;36mAimlsseImageDataset.__getitem__\u001b[1;34m(self, index)\u001b[0m\n\u001b[0;32m     66\u001b[0m \u001b[39mdef\u001b[39;00m \u001b[39m__getitem__\u001b[39m(\u001b[39mself\u001b[39m, index) \u001b[39m-\u001b[39m\u001b[39m>\u001b[39m Tuple[np\u001b[39m.\u001b[39mndarray, \u001b[39mint\u001b[39m, \u001b[39mint\u001b[39m]:\n\u001b[1;32m---> 67\u001b[0m     image \u001b[39m=\u001b[39m \u001b[39mself\u001b[39;49m\u001b[39m.\u001b[39;49mget_image(index)\n\u001b[0;32m     68\u001b[0m     label \u001b[39m=\u001b[39m \u001b[39mself\u001b[39m\u001b[39m.\u001b[39mget_label(index)\n\u001b[0;32m     69\u001b[0m     \u001b[39mreturn\u001b[39;00m image, label, index\n",
      "File \u001b[1;32mc:\\Users\\erikw\\Documents\\Uni\\Master\\Semester 5\\Master Thesis\\python\\aimlsse\\notebooks\\ml_commons.py:73\u001b[0m, in \u001b[0;36mAimlsseImageDataset.get_image\u001b[1;34m(self, index)\u001b[0m\n\u001b[0;32m     71\u001b[0m \u001b[39mdef\u001b[39;00m \u001b[39mget_image\u001b[39m(\u001b[39mself\u001b[39m, index) \u001b[39m-\u001b[39m\u001b[39m>\u001b[39m np\u001b[39m.\u001b[39mndarray:\n\u001b[0;32m     72\u001b[0m     path \u001b[39m=\u001b[39m \u001b[39mself\u001b[39m\u001b[39m.\u001b[39mget_image_path(index)\n\u001b[1;32m---> 73\u001b[0m     image \u001b[39m=\u001b[39m rasterio\u001b[39m.\u001b[39;49mopen(path)\n\u001b[0;32m     74\u001b[0m     image_tensor \u001b[39m=\u001b[39m torch\u001b[39m.\u001b[39mfrom_numpy(image\u001b[39m.\u001b[39mread())\u001b[39m.\u001b[39mclamp(\u001b[39m0.001\u001b[39m, \u001b[39m1\u001b[39m)\n\u001b[0;32m     75\u001b[0m     image\u001b[39m.\u001b[39mclose()\n",
      "File \u001b[1;32mc:\\Users\\erikw\\anaconda3\\lib\\site-packages\\rasterio\\env.py:451\u001b[0m, in \u001b[0;36mensure_env_with_credentials.<locals>.wrapper\u001b[1;34m(*args, **kwds)\u001b[0m\n\u001b[0;32m    448\u001b[0m     session \u001b[39m=\u001b[39m DummySession()\n\u001b[0;32m    450\u001b[0m \u001b[39mwith\u001b[39;00m env_ctor(session\u001b[39m=\u001b[39msession):\n\u001b[1;32m--> 451\u001b[0m     \u001b[39mreturn\u001b[39;00m f(\u001b[39m*\u001b[39margs, \u001b[39m*\u001b[39m\u001b[39m*\u001b[39mkwds)\n",
      "File \u001b[1;32mc:\\Users\\erikw\\anaconda3\\lib\\site-packages\\rasterio\\__init__.py:304\u001b[0m, in \u001b[0;36mopen\u001b[1;34m(fp, mode, driver, width, height, count, crs, transform, dtype, nodata, sharing, **kwargs)\u001b[0m\n\u001b[0;32m    301\u001b[0m path \u001b[39m=\u001b[39m _parse_path(raw_dataset_path)\n\u001b[0;32m    303\u001b[0m \u001b[39mif\u001b[39;00m mode \u001b[39m==\u001b[39m \u001b[39m\"\u001b[39m\u001b[39mr\u001b[39m\u001b[39m\"\u001b[39m:\n\u001b[1;32m--> 304\u001b[0m     dataset \u001b[39m=\u001b[39m DatasetReader(path, driver\u001b[39m=\u001b[39mdriver, sharing\u001b[39m=\u001b[39msharing, \u001b[39m*\u001b[39m\u001b[39m*\u001b[39mkwargs)\n\u001b[0;32m    305\u001b[0m \u001b[39melif\u001b[39;00m mode \u001b[39m==\u001b[39m \u001b[39m\"\u001b[39m\u001b[39mr+\u001b[39m\u001b[39m\"\u001b[39m:\n\u001b[0;32m    306\u001b[0m     dataset \u001b[39m=\u001b[39m get_writer_for_path(path, driver\u001b[39m=\u001b[39mdriver)(\n\u001b[0;32m    307\u001b[0m         path, mode, driver\u001b[39m=\u001b[39mdriver, sharing\u001b[39m=\u001b[39msharing, \u001b[39m*\u001b[39m\u001b[39m*\u001b[39mkwargs\n\u001b[0;32m    308\u001b[0m     )\n",
      "File \u001b[1;32mrasterio\\_base.pyx:312\u001b[0m, in \u001b[0;36mrasterio._base.DatasetBase.__init__\u001b[1;34m()\u001b[0m\n",
      "File \u001b[1;32mc:\\Users\\erikw\\anaconda3\\lib\\site-packages\\rasterio\\_path.py:113\u001b[0m, in \u001b[0;36m_UnparsedPath.name\u001b[1;34m(self)\u001b[0m\n\u001b[0;32m    104\u001b[0m \u001b[39m\u001b[39m\u001b[39m\"\"\"Encapsulates legacy GDAL filenames\u001b[39;00m\n\u001b[0;32m    105\u001b[0m \n\u001b[0;32m    106\u001b[0m \u001b[39mAttributes\u001b[39;00m\n\u001b[1;32m   (...)\u001b[0m\n\u001b[0;32m    109\u001b[0m \u001b[39m    The legacy GDAL filename.\u001b[39;00m\n\u001b[0;32m    110\u001b[0m \u001b[39m\"\"\"\u001b[39;00m\n\u001b[0;32m    111\u001b[0m path \u001b[39m=\u001b[39m attr\u001b[39m.\u001b[39mib()\n\u001b[1;32m--> 113\u001b[0m \u001b[39m@property\u001b[39m\n\u001b[0;32m    114\u001b[0m \u001b[39mdef\u001b[39;00m \u001b[39mname\u001b[39m(\u001b[39mself\u001b[39m):\n\u001b[0;32m    115\u001b[0m \u001b[39m    \u001b[39m\u001b[39m\"\"\"The unparsed path's original path\"\"\"\u001b[39;00m\n\u001b[0;32m    116\u001b[0m     \u001b[39mreturn\u001b[39;00m \u001b[39mself\u001b[39m\u001b[39m.\u001b[39mpath\n",
      "\u001b[1;31mKeyboardInterrupt\u001b[0m: "
     ]
    }
   ],
   "source": [
    "model_data = ModelData(train_dataset, validation_dataset, train_dataloader, validation_dataloader)\n",
    "checkpoint_filepath = os.path.join(config['paths']['machine_learning_dir'], 'checkpoints', 'chk.pt')\n",
    "print(f'Model Checkpoints will be stored in: {checkpoint_filepath}')\n",
    "output_filepath = os.path.join(config['paths']['machine_learning_dir'], 'output', config['output']['output_name'])\n",
    "print(f'The results will be stored in: {output_filepath}')\n",
    "model_trained = train_model(model, device, model_data, criterion, outputs_to_predictions, optimizer, scheduler,\n",
    "                            checkpoint_filepath, num_epochs=config['processing']['num_epochs'],\n",
    "                            batch_accumulation=config['processing']['batch_accumulation'], config=config)\n",
    "print('Copying data from checkpoint to results..')\n",
    "state = load_state(checkpoint_filepath)\n",
    "save_state(output_filepath, state)\n",
    "print(f'Results stored in: {output_filepath}')\n",
    "print('Done!')"
   ]
  }
 ],
 "metadata": {
  "kernelspec": {
   "display_name": "Python 3 (ipykernel)",
   "language": "python",
   "name": "python3"
  },
  "language_info": {
   "codemirror_mode": {
    "name": "ipython",
    "version": 3
   },
   "file_extension": ".py",
   "mimetype": "text/x-python",
   "name": "python",
   "nbconvert_exporter": "python",
   "pygments_lexer": "ipython3",
   "version": "3.9.15"
  },
  "vscode": {
   "interpreter": {
    "hash": "d581a96df5f4d85c539a287c4f6ef29fb4dda2cc3374c000ae58cf3e6d0b188e"
   }
  }
 },
 "nbformat": 4,
 "nbformat_minor": 4
}
