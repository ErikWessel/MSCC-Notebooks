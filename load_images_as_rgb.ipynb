{
 "cells": [
  {
   "cell_type": "code",
   "execution_count": 1,
   "metadata": {},
   "outputs": [],
   "source": [
    "import os\n",
    "import rasterio\n",
    "from rasterio import plot\n",
    "import numpy as np\n",
    "from numpy.typing import NDArray\n",
    "import matplotlib.pyplot as plt\n",
    "from typing import List"
   ]
  },
  {
   "cell_type": "code",
   "execution_count": 2,
   "metadata": {},
   "outputs": [],
   "source": [
    "features_path = os.path.join('data', 'queries', 'Montana', 'features')\n",
    "\n",
    "def load_image(product:str, band:str, station:str) -> rasterio.DatasetReader:\n",
    "    return rasterio.open(os.path.join(features_path, product, band, f'{station}.jp2'))"
   ]
  },
  {
   "cell_type": "code",
   "execution_count": 5,
   "metadata": {},
   "outputs": [],
   "source": [
    "def get_rgb_image(product:str, station:str) -> NDArray[np.floating]:\n",
    "    images = {band: load_image(product, band, station).read(1) / 10000 for band in ['B4', 'B3', 'B2', 'B11']}\n",
    "    index = (images['B3'] - images['B11']) / (images['B3'] + images['B11'])\n",
    "    rgb_image = np.stack([images['B4'], images['B3'], images['B2']] * (1 - index), axis=2) \n",
    "\n",
    "    [img.close() for img in images]\n",
    "    return rgb_image"
   ]
  },
  {
   "cell_type": "code",
   "execution_count": 6,
   "metadata": {},
   "outputs": [
    {
     "ename": "ValueError",
     "evalue": "operands could not be broadcast together with shapes (1601,1601) (801,801) ",
     "output_type": "error",
     "traceback": [
      "\u001b[1;31m---------------------------------------------------------------------------\u001b[0m",
      "\u001b[1;31mValueError\u001b[0m                                Traceback (most recent call last)",
      "Cell \u001b[1;32mIn[6], line 1\u001b[0m\n\u001b[1;32m----> 1\u001b[0m rgb_image \u001b[39m=\u001b[39m get_rgb_image(\u001b[39m'\u001b[39;49m\u001b[39m0fb63a03-2241-4781-b7c7-ea09c1952e20\u001b[39;49m\u001b[39m'\u001b[39;49m, \u001b[39m'\u001b[39;49m\u001b[39mGTF\u001b[39;49m\u001b[39m'\u001b[39;49m)\n\u001b[0;32m      2\u001b[0m fig \u001b[39m=\u001b[39m plt\u001b[39m.\u001b[39mfigure(figsize\u001b[39m=\u001b[39m(\u001b[39m20\u001b[39m,\u001b[39m20\u001b[39m))\n\u001b[0;32m      3\u001b[0m plt\u001b[39m.\u001b[39maxis(\u001b[39m'\u001b[39m\u001b[39moff\u001b[39m\u001b[39m'\u001b[39m)\n",
      "Cell \u001b[1;32mIn[5], line 3\u001b[0m, in \u001b[0;36mget_rgb_image\u001b[1;34m(product, station)\u001b[0m\n\u001b[0;32m      1\u001b[0m \u001b[39mdef\u001b[39;00m \u001b[39mget_rgb_image\u001b[39m(product:\u001b[39mstr\u001b[39m, station:\u001b[39mstr\u001b[39m) \u001b[39m-\u001b[39m\u001b[39m>\u001b[39m NDArray[np\u001b[39m.\u001b[39mfloating]:\n\u001b[0;32m      2\u001b[0m     images \u001b[39m=\u001b[39m {band: load_image(product, band, station)\u001b[39m.\u001b[39mread(\u001b[39m1\u001b[39m) \u001b[39m/\u001b[39m \u001b[39m10000\u001b[39m \u001b[39mfor\u001b[39;00m band \u001b[39min\u001b[39;00m [\u001b[39m'\u001b[39m\u001b[39mB4\u001b[39m\u001b[39m'\u001b[39m, \u001b[39m'\u001b[39m\u001b[39mB3\u001b[39m\u001b[39m'\u001b[39m, \u001b[39m'\u001b[39m\u001b[39mB2\u001b[39m\u001b[39m'\u001b[39m, \u001b[39m'\u001b[39m\u001b[39mB11\u001b[39m\u001b[39m'\u001b[39m]}\n\u001b[1;32m----> 3\u001b[0m     index \u001b[39m=\u001b[39m (images[\u001b[39m'\u001b[39;49m\u001b[39mB3\u001b[39;49m\u001b[39m'\u001b[39;49m] \u001b[39m-\u001b[39;49m images[\u001b[39m'\u001b[39;49m\u001b[39mB11\u001b[39;49m\u001b[39m'\u001b[39;49m]) \u001b[39m/\u001b[39m (images[\u001b[39m'\u001b[39m\u001b[39mB3\u001b[39m\u001b[39m'\u001b[39m] \u001b[39m+\u001b[39m images[\u001b[39m'\u001b[39m\u001b[39mB11\u001b[39m\u001b[39m'\u001b[39m])\n\u001b[0;32m      4\u001b[0m     rgb_image \u001b[39m=\u001b[39m np\u001b[39m.\u001b[39mstack([images[\u001b[39m'\u001b[39m\u001b[39mB4\u001b[39m\u001b[39m'\u001b[39m], images[\u001b[39m'\u001b[39m\u001b[39mB3\u001b[39m\u001b[39m'\u001b[39m], images[\u001b[39m'\u001b[39m\u001b[39mB2\u001b[39m\u001b[39m'\u001b[39m]] \u001b[39m*\u001b[39m (\u001b[39m1\u001b[39m \u001b[39m-\u001b[39m index), axis\u001b[39m=\u001b[39m\u001b[39m2\u001b[39m) \n\u001b[0;32m      6\u001b[0m     [img\u001b[39m.\u001b[39mclose() \u001b[39mfor\u001b[39;00m img \u001b[39min\u001b[39;00m images]\n",
      "\u001b[1;31mValueError\u001b[0m: operands could not be broadcast together with shapes (1601,1601) (801,801) "
     ]
    }
   ],
   "source": [
    "rgb_image = get_rgb_image('0fb63a03-2241-4781-b7c7-ea09c1952e20', 'GTF')\n",
    "fig = plt.figure(figsize=(20,20))\n",
    "plt.axis('off')\n",
    "plt.imshow(rgb_image)\n",
    "plt.savefig(\"TCI.png\", bbox_inches='tight', pad_inches=0)"
   ]
  }
 ],
 "metadata": {
  "kernelspec": {
   "display_name": "base",
   "language": "python",
   "name": "python3"
  },
  "language_info": {
   "codemirror_mode": {
    "name": "ipython",
    "version": 3
   },
   "file_extension": ".py",
   "mimetype": "text/x-python",
   "name": "python",
   "nbconvert_exporter": "python",
   "pygments_lexer": "ipython3",
   "version": "3.9.15"
  },
  "orig_nbformat": 4
 },
 "nbformat": 4,
 "nbformat_minor": 2
}
