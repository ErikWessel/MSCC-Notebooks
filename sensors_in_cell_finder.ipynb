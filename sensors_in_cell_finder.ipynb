{
 "cells": [
  {
   "cell_type": "code",
   "execution_count": 11,
   "id": "b4c89e15-2198-4708-94fd-4fb1aa702af3",
   "metadata": {},
   "outputs": [],
   "source": [
    "import geopandas as gpd\n",
    "import pandas as pd\n",
    "import matplotlib.pyplot as plt\n",
    "import seaborn as sns\n",
    "import datetime\n",
    "import os\n",
    "import ipaddress\n",
    "from aimlsse_api.client import GroundDataClient, SatelliteDataClient\n",
    "from shapely import Polygon"
   ]
  },
  {
   "cell_type": "code",
   "execution_count": 2,
   "id": "df4ac182-d517-4b7d-9294-878b9a9488db",
   "metadata": {},
   "outputs": [],
   "source": [
    "ground_data_client = GroundDataClient(ipaddress.ip_address('127.0.0.1'), 8000)"
   ]
  },
  {
   "cell_type": "code",
   "execution_count": 4,
   "id": "ce911569",
   "metadata": {},
   "outputs": [
    {
     "name": "stdout",
     "output_type": "stream",
     "text": [
      "                      geometry    id                 name         plot_name  \\\n",
      "0     POINT (6.04222 54.03667)  EHHW          Buitengaats       Buitengaats   \n",
      "1     POINT (6.58472 53.12361)  EHGG            Groningen  GRONINGEN/EELDE    \n",
      "2    POINT (14.13806 47.53250)  LOXA  AIGEN/ENNSTAL (MIL)  AIGEN/ENNSTAL (M   \n",
      "3    POINT (14.18751 48.23322)  LOWL                 Linz  LINZ (CIV/MIL)     \n",
      "4    POINT (13.00000 47.80000)  LOWS             Salzburg  SALZBURG AIRPORT   \n",
      "..                         ...   ...                  ...               ...   \n",
      "108   POINT (7.51028 47.61417)  LFSB             Mulhouse  BALE/MULHOUSE      \n",
      "109   POINT (6.22167 48.68778)  LFSN                Nancy  NANCY/ESSEY        \n",
      "110   POINT (7.64028 48.54944)  LFST           Strasbourg  STRASBOURG/ENTZH   \n",
      "111   POINT (6.21152 49.62658)  ELLX            Luxemburg  LUXEMBOURG (AUT)   \n",
      "112  POINT (14.62278 53.39528)  EPSC             Szczecin  SZCZECIN/GOLENIO   \n",
      "\n",
      "      network   latitude  longitude  elevation  index_right ISO_A3_EH  \\\n",
      "0    NL__ASOS  54.036667   6.042222      -30.0           93       NLD   \n",
      "1    NL__ASOS  53.123610   6.584720        4.0           93       NLD   \n",
      "2    AT__ASOS  47.532500  14.138060      649.0           88       AUT   \n",
      "3    AT__ASOS  48.233220  14.187510      313.0           88       AUT   \n",
      "4    AT__ASOS  47.800000  13.000000      450.0           88       AUT   \n",
      "..        ...        ...        ...        ...          ...       ...   \n",
      "108  FR__ASOS  47.614170   7.510280      271.0           21       FRA   \n",
      "109  FR__ASOS  48.687780   6.221670      217.0           21       FRA   \n",
      "110  FR__ASOS  48.549440   7.640280      154.0           21       FRA   \n",
      "111  LU__ASOS  49.626580   6.211520      379.0           57       LUX   \n",
      "112  PL__ASOS  53.395280  14.622780        3.0           76       POL   \n",
      "\n",
      "         country CONTINENT  distance_to_region  \n",
      "0    Netherlands    Europe            0.550733  \n",
      "1    Netherlands    Europe            0.000000  \n",
      "2        Austria    Europe            0.000000  \n",
      "3        Austria    Europe            0.000000  \n",
      "4        Austria    Europe            0.000000  \n",
      "..           ...       ...                 ...  \n",
      "108       France    Europe            0.000000  \n",
      "109       France    Europe            0.000000  \n",
      "110       France    Europe            0.000000  \n",
      "111   Luxembourg    Europe            0.000000  \n",
      "112       Poland    Europe            0.000000  \n",
      "\n",
      "[113 rows x 13 columns]\n"
     ]
    }
   ],
   "source": [
    "stations_meta = ground_data_client.queryMetadata(polygons=[\n",
    "    Polygon([(6.0, 47.5),(15.0, 47.5),(15.0, 55.0),(6.0, 55.0)])\n",
    "])\n",
    "print(stations_meta)"
   ]
  },
  {
   "cell_type": "code",
   "execution_count": 5,
   "id": "7c8df805",
   "metadata": {},
   "outputs": [
    {
     "name": "stdout",
     "output_type": "stream",
     "text": [
      "       id                   geometry\n",
      "0    EHHW   POINT (6.04222 54.03667)\n",
      "1    EHGG   POINT (6.58472 53.12361)\n",
      "2    LOXA  POINT (14.13806 47.53250)\n",
      "3    LOWL  POINT (14.18751 48.23322)\n",
      "4    LOWS  POINT (13.00000 47.80000)\n",
      "..    ...                        ...\n",
      "108  LFSB   POINT (7.51028 47.61417)\n",
      "109  LFSN   POINT (6.22167 48.68778)\n",
      "110  LFST   POINT (7.64028 48.54944)\n",
      "111  ELLX   POINT (6.21152 49.62658)\n",
      "112  EPSC  POINT (14.62278 53.39528)\n",
      "\n",
      "[113 rows x 2 columns]\n"
     ]
    }
   ],
   "source": [
    "locations = stations_meta[['id', 'geometry']]\n",
    "print(locations)"
   ]
  },
  {
   "cell_type": "code",
   "execution_count": 6,
   "id": "31e028d2-9c11-4e55-9bc3-dcaad60ae74c",
   "metadata": {},
   "outputs": [],
   "source": [
    "satellite_data_client = SatelliteDataClient(ipaddress.ip_address('127.0.0.1'), 8010)"
   ]
  },
  {
   "cell_type": "code",
   "execution_count": 7,
   "id": "56464f73-5082-46a2-a363-070b44b6cc9e",
   "metadata": {},
   "outputs": [
    {
     "name": "stdout",
     "output_type": "stream",
     "text": [
      "                                              geometry cell_name  \\\n",
      "0    GEOMETRYCOLLECTION Z (POLYGON Z ((5.67154 47.8...     31TGN   \n",
      "1    GEOMETRYCOLLECTION Z (POLYGON Z ((5.71882 48.7...     31UGP   \n",
      "2    GEOMETRYCOLLECTION Z (POLYGON Z ((6.32793 47.8...     32TLT   \n",
      "3    GEOMETRYCOLLECTION Z (POLYGON Z ((6.28064 48.7...     32ULU   \n",
      "4    GEOMETRYCOLLECTION Z (POLYGON Z ((4.56477 55.0...     31UFA   \n",
      "..                                                 ...       ...   \n",
      "163  GEOMETRYCOLLECTION Z (POLYGON Z ((13.58809 50....     33UVR   \n",
      "164  GEOMETRYCOLLECTION Z (POLYGON Z ((13.56055 51....     33UVS   \n",
      "165  GEOMETRYCOLLECTION Z (POLYGON Z ((13.56055 51....     33UVS   \n",
      "166  GEOMETRYCOLLECTION Z (POLYGON Z ((13.46869 54....     33UVV   \n",
      "167  GEOMETRYCOLLECTION Z (POLYGON Z ((13.46869 54....     33UVV   \n",
      "\n",
      "                                           Description  index_right    id  \n",
      "0    TILE PROPERTIES<br><table border=0 cellpadding...          105  LFSX  \n",
      "1    TILE PROPERTIES<br><table border=0 cellpadding...          105  LFSX  \n",
      "2    TILE PROPERTIES<br><table border=0 cellpadding...          105  LFSX  \n",
      "3    TILE PROPERTIES<br><table border=0 cellpadding...          105  LFSX  \n",
      "4    TILE PROPERTIES<br><table border=0 cellpadding...            0  EHHW  \n",
      "..                                                 ...          ...   ...  \n",
      "163  TILE PROPERTIES<br><table border=0 cellpadding...           10  LKVO  \n",
      "164  TILE PROPERTIES<br><table border=0 cellpadding...           83  EDAR  \n",
      "165  TILE PROPERTIES<br><table border=0 cellpadding...           29  EDDC  \n",
      "166  TILE PROPERTIES<br><table border=0 cellpadding...          112  EPSC  \n",
      "167  TILE PROPERTIES<br><table border=0 cellpadding...           47  EDAH  \n",
      "\n",
      "[168 rows x 5 columns]\n"
     ]
    }
   ],
   "source": [
    "grid_cells = satellite_data_client.queryContainingGeometry(locations)\n",
    "print(grid_cells)"
   ]
  },
  {
   "cell_type": "code",
   "execution_count": 8,
   "id": "f2c7aaf8",
   "metadata": {},
   "outputs": [],
   "source": [
    "groups = grid_cells.groupby(['cell_name'])"
   ]
  },
  {
   "cell_type": "code",
   "execution_count": 12,
   "id": "593472e3",
   "metadata": {},
   "outputs": [
    {
     "name": "stdout",
     "output_type": "stream",
     "text": [
      "62    ETOR\n",
      "64    EDFE\n",
      "65    EDDF\n",
      "66    ETOU\n",
      "Name: id, dtype: object\n"
     ]
    }
   ],
   "source": [
    "target_group: gpd.GeoDataFrame = groups.get_group('32UMA')\n",
    "target_stations: pd.Series = target_group['id']\n",
    "print(target_stations)"
   ]
  },
  {
   "cell_type": "code",
   "execution_count": 14,
   "id": "70589eb2",
   "metadata": {},
   "outputs": [
    {
     "name": "stdout",
     "output_type": "stream",
     "text": [
      "      id                  geometry\n",
      "24  ETOR  POINT (8.46339 49.56357)\n",
      "31  EDFE  POINT (8.64150 49.96083)\n",
      "36  EDDF  POINT (8.59861 50.04639)\n",
      "97  ETOU  POINT (8.32540 50.04982)\n"
     ]
    }
   ],
   "source": [
    "target_locations = locations[locations['id'].isin(target_stations)]\n",
    "print(target_locations)"
   ]
  },
  {
   "cell_type": "code",
   "execution_count": 25,
   "id": "2d13b3d2",
   "metadata": {},
   "outputs": [
    {
     "name": "stdout",
     "output_type": "stream",
     "text": [
      "Point(8.46339, 49.56357)\n",
      "Point(8.6415, 49.96083)\n",
      "Point(8.59861, 50.04639)\n",
      "Point(8.3254, 50.04982)\n"
     ]
    },
    {
     "data": {
      "text/plain": [
       "24    None\n",
       "31    None\n",
       "36    None\n",
       "97    None\n",
       "Name: geometry, dtype: geometry"
      ]
     },
     "execution_count": 25,
     "metadata": {},
     "output_type": "execute_result"
    }
   ],
   "source": [
    "target_locations['geometry'].apply(lambda point: print(f'Point({point.x}, {point.y})'))"
   ]
  }
 ],
 "metadata": {
  "kernelspec": {
   "display_name": "Python 3 (ipykernel)",
   "language": "python",
   "name": "python3"
  },
  "language_info": {
   "codemirror_mode": {
    "name": "ipython",
    "version": 3
   },
   "file_extension": ".py",
   "mimetype": "text/x-python",
   "name": "python",
   "nbconvert_exporter": "python",
   "pygments_lexer": "ipython3",
   "version": "3.9.15"
  },
  "vscode": {
   "interpreter": {
    "hash": "d581a96df5f4d85c539a287c4f6ef29fb4dda2cc3374c000ae58cf3e6d0b188e"
   }
  }
 },
 "nbformat": 4,
 "nbformat_minor": 5
}
