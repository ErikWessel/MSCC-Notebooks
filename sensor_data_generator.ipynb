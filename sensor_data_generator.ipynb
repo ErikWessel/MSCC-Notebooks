{
 "cells": [
  {
   "cell_type": "code",
   "execution_count": 11,
   "id": "3f5ca395-a084-4d3e-95eb-5d01122f056f",
   "metadata": {},
   "outputs": [],
   "source": [
    "import pandas as pd\n",
    "import numpy as np\n",
    "import random\n",
    "import datetime\n",
    "import itertools\n",
    "import os\n",
    "from typing import Tuple, List"
   ]
  },
  {
   "cell_type": "code",
   "execution_count": 2,
   "id": "f9faab5a-7d8d-47bc-a47e-4f968731c043",
   "metadata": {},
   "outputs": [],
   "source": [
    "def generate_coordinates() -> Tuple[float, float]:\n",
    "    z = random.uniform(-1.0, 1.0) # offset from the center (0) of the sphere to one of the poles\n",
    "    phi = random.uniform(-np.pi, np.pi)\n",
    "    latitude = np.rad2deg(np.arcsin(z))\n",
    "    longitude = np.rad2deg(phi)\n",
    "    return (latitude, longitude)"
   ]
  },
  {
   "cell_type": "code",
   "execution_count": 3,
   "id": "40977253-4d2d-44e8-b64b-558160bf79b3",
   "metadata": {},
   "outputs": [],
   "source": [
    "def generate_sensors(num_sensors:int) -> List[Tuple[float, float]]:\n",
    "    return [ generate_coordinates() for i in range(num_sensors) ]"
   ]
  },
  {
   "cell_type": "code",
   "execution_count": 4,
   "id": "b5c710ca-07f1-4177-a337-80807dece6f4",
   "metadata": {},
   "outputs": [],
   "source": [
    "def generate_temperature() -> float:\n",
    "    return random.uniform(-20.0, 40.0) # degrees celsius"
   ]
  },
  {
   "cell_type": "code",
   "execution_count": 5,
   "id": "9e448c2b-3e15-4fff-8989-8883ce49dd8e",
   "metadata": {},
   "outputs": [],
   "source": [
    "dates = pd.date_range('2022-11-01', '2022-12-01', freq='D')\n",
    "num_dates = len(dates)"
   ]
  },
  {
   "cell_type": "code",
   "execution_count": 6,
   "id": "eda36ff5-1a64-4495-b755-cf0fb959e7b1",
   "metadata": {},
   "outputs": [],
   "source": [
    "num_sensors = 12\n",
    "sensors = generate_sensors(num_sensors)"
   ]
  },
  {
   "cell_type": "code",
   "execution_count": 7,
   "id": "e6e68ca4-27fc-4405-801e-b8014d8b2699",
   "metadata": {},
   "outputs": [],
   "source": [
    "data = {}\n",
    "data['date'] = list(itertools.chain.from_iterable([ [date.date().isoformat()] * num_sensors for date in dates ]))\n",
    "data['latitude'] = [ sensor[0] for sensor in sensors ] * num_dates\n",
    "data['longitude'] = [ sensor[1] for sensor in sensors ] * num_dates\n",
    "num_measurements = num_dates * num_sensors\n",
    "data['temperature'] = [ generate_temperature() for i in range(num_measurements) ]"
   ]
  },
  {
   "cell_type": "code",
   "execution_count": 8,
   "id": "501e0c4d-5e08-4765-b4e0-d7a11d08b5a9",
   "metadata": {},
   "outputs": [
    {
     "name": "stdout",
     "output_type": "stream",
     "text": [
      "           date   latitude   longitude  temperature\n",
      "0    2022-11-01 -19.516610   46.634293   -18.846194\n",
      "1    2022-11-01   8.210017   -9.703241    31.881823\n",
      "2    2022-11-01 -63.862089  154.339263    14.020702\n",
      "3    2022-11-01 -66.974250  154.365457    -3.748370\n",
      "4    2022-11-01 -68.842569 -163.404528    24.862404\n",
      "..          ...        ...         ...          ...\n",
      "367  2022-12-01 -14.442301   93.980585    12.991345\n",
      "368  2022-12-01  23.246437  156.985558    28.541495\n",
      "369  2022-12-01  12.423616  -30.962509    18.204881\n",
      "370  2022-12-01  46.818007  -19.642491     2.469277\n",
      "371  2022-12-01  18.423240  -64.716148    25.735176\n",
      "\n",
      "[372 rows x 4 columns]\n"
     ]
    }
   ],
   "source": [
    "df = pd.DataFrame(data)\n",
    "print(df)"
   ]
  },
  {
   "cell_type": "code",
   "execution_count": 14,
   "id": "173dd313-5ed9-499c-8dc6-16268f3b196b",
   "metadata": {},
   "outputs": [],
   "source": [
    "output_dir = 'results/'\n",
    "if not os.path.exists(output_dir):\n",
    "    os.makedirs(output_dir)\n",
    "df.to_csv(f'{output_dir}ground_measurements.csv', index=False)"
   ]
  },
  {
   "cell_type": "code",
   "execution_count": null,
   "id": "bdddcce3-f94c-44c2-a326-06cc97d56d92",
   "metadata": {},
   "outputs": [],
   "source": []
  }
 ],
 "metadata": {
  "kernelspec": {
   "display_name": "Python 3 (ipykernel)",
   "language": "python",
   "name": "python3"
  },
  "language_info": {
   "codemirror_mode": {
    "name": "ipython",
    "version": 3
   },
   "file_extension": ".py",
   "mimetype": "text/x-python",
   "name": "python",
   "nbconvert_exporter": "python",
   "pygments_lexer": "ipython3",
   "version": "3.9.13"
  }
 },
 "nbformat": 4,
 "nbformat_minor": 5
}
