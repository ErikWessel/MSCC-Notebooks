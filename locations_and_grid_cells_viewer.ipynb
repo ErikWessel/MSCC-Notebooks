{
 "cells": [
  {
   "cell_type": "code",
   "execution_count": 11,
   "id": "b4c89e15-2198-4708-94fd-4fb1aa702af3",
   "metadata": {},
   "outputs": [],
   "source": [
    "import geopandas as gpd\n",
    "import matplotlib.pyplot as plt\n",
    "import seaborn as sns\n",
    "import datetime\n",
    "import os\n",
    "import ipaddress\n",
    "from aimlsse_api.client import GroundDataClient, SatelliteDataClient\n",
    "from shapely import Polygon"
   ]
  },
  {
   "cell_type": "code",
   "execution_count": 12,
   "id": "df4ac182-d517-4b7d-9294-878b9a9488db",
   "metadata": {},
   "outputs": [],
   "source": [
    "ground_data_client = GroundDataClient(ipaddress.ip_address('127.0.0.1'), 8000)"
   ]
  },
  {
   "cell_type": "code",
   "execution_count": 13,
   "id": "6fc56492-1a70-4cba-95ef-21f834db0ba4",
   "metadata": {},
   "outputs": [
    {
     "name": "stdout",
     "output_type": "stream",
     "text": [
      "                    geometry    id       name          plot_name   network  \\\n",
      "0   POINT (8.59861 50.04639)  EDDF  Frankfurt   FRANKFURT MAIN A  DE__ASOS   \n",
      "1  POINT (-0.46144 51.47852)  EGLL     London  London - Heathrow  GB__ASOS   \n",
      "\n",
      "    latitude  longitude   elevation  index_right ISO_A3_EH         country  \\\n",
      "0  50.046390    8.59861  113.000000           49       DEU         Germany   \n",
      "1  51.478524   -0.46144   26.786364           78       GBR  United Kingdom   \n",
      "\n",
      "  CONTINENT  distance_to_region  \n",
      "0    Europe                 0.0  \n",
      "1    Europe                 0.0  \n"
     ]
    }
   ],
   "source": [
    "stations_meta = ground_data_client.queryMetadata(stations=['EDDF', 'EGLL'])\n",
    "print(stations_meta)"
   ]
  },
  {
   "cell_type": "code",
   "execution_count": 37,
   "id": "ce911569",
   "metadata": {},
   "outputs": [
    {
     "name": "stdout",
     "output_type": "stream",
     "text": [
      "                      geometry    id                 name         plot_name  \\\n",
      "0     POINT (6.04222 54.03667)  EHHW          Buitengaats       Buitengaats   \n",
      "1     POINT (6.58472 53.12361)  EHGG            Groningen  GRONINGEN/EELDE    \n",
      "2    POINT (14.13806 47.53250)  LOXA  AIGEN/ENNSTAL (MIL)  AIGEN/ENNSTAL (M   \n",
      "3    POINT (14.18751 48.23322)  LOWL                 Linz  LINZ (CIV/MIL)     \n",
      "4    POINT (13.00000 47.80000)  LOWS             Salzburg  SALZBURG AIRPORT   \n",
      "..                         ...   ...                  ...               ...   \n",
      "108   POINT (7.51028 47.61417)  LFSB             Mulhouse  BALE/MULHOUSE      \n",
      "109   POINT (6.22167 48.68778)  LFSN                Nancy  NANCY/ESSEY        \n",
      "110   POINT (7.64028 48.54944)  LFST           Strasbourg  STRASBOURG/ENTZH   \n",
      "111   POINT (6.21152 49.62658)  ELLX            Luxemburg  LUXEMBOURG (AUT)   \n",
      "112  POINT (14.62278 53.39528)  EPSC             Szczecin  SZCZECIN/GOLENIO   \n",
      "\n",
      "      network   latitude  longitude  elevation  index_right ISO_A3_EH  \\\n",
      "0    NL__ASOS  54.036667   6.042222      -30.0           93       NLD   \n",
      "1    NL__ASOS  53.123610   6.584720        4.0           93       NLD   \n",
      "2    AT__ASOS  47.532500  14.138060      649.0           88       AUT   \n",
      "3    AT__ASOS  48.233220  14.187510      313.0           88       AUT   \n",
      "4    AT__ASOS  47.800000  13.000000      450.0           88       AUT   \n",
      "..        ...        ...        ...        ...          ...       ...   \n",
      "108  FR__ASOS  47.614170   7.510280      271.0           21       FRA   \n",
      "109  FR__ASOS  48.687780   6.221670      217.0           21       FRA   \n",
      "110  FR__ASOS  48.549440   7.640280      154.0           21       FRA   \n",
      "111  LU__ASOS  49.626580   6.211520      379.0           57       LUX   \n",
      "112  PL__ASOS  53.395280  14.622780        3.0           76       POL   \n",
      "\n",
      "         country CONTINENT  distance_to_region  \n",
      "0    Netherlands    Europe            0.550733  \n",
      "1    Netherlands    Europe            0.000000  \n",
      "2        Austria    Europe            0.000000  \n",
      "3        Austria    Europe            0.000000  \n",
      "4        Austria    Europe            0.000000  \n",
      "..           ...       ...                 ...  \n",
      "108       France    Europe            0.000000  \n",
      "109       France    Europe            0.000000  \n",
      "110       France    Europe            0.000000  \n",
      "111   Luxembourg    Europe            0.000000  \n",
      "112       Poland    Europe            0.000000  \n",
      "\n",
      "[113 rows x 13 columns]\n"
     ]
    }
   ],
   "source": [
    "stations_meta = ground_data_client.queryMetadata(polygons=[\n",
    "    Polygon([(6.0, 47.5),(15.0, 47.5),(15.0, 55.0),(6.0, 55.0)])\n",
    "])\n",
    "print(stations_meta)"
   ]
  },
  {
   "cell_type": "code",
   "execution_count": 15,
   "id": "7c8df805",
   "metadata": {},
   "outputs": [
    {
     "name": "stdout",
     "output_type": "stream",
     "text": [
      "       id                   geometry\n",
      "0    EHHW   POINT (6.04222 54.03667)\n",
      "1    EHGG   POINT (6.58472 53.12361)\n",
      "2    LOXA  POINT (14.13806 47.53250)\n",
      "3    LOWL  POINT (14.18751 48.23322)\n",
      "4    LOWS  POINT (13.00000 47.80000)\n",
      "..    ...                        ...\n",
      "108  LFSB   POINT (7.51028 47.61417)\n",
      "109  LFSN   POINT (6.22167 48.68778)\n",
      "110  LFST   POINT (7.64028 48.54944)\n",
      "111  ELLX   POINT (6.21152 49.62658)\n",
      "112  EPSC  POINT (14.62278 53.39528)\n",
      "\n",
      "[113 rows x 2 columns]\n"
     ]
    }
   ],
   "source": [
    "locations = stations_meta[['id', 'geometry']]\n",
    "print(locations)"
   ]
  },
  {
   "cell_type": "code",
   "execution_count": 16,
   "id": "31e028d2-9c11-4e55-9bc3-dcaad60ae74c",
   "metadata": {},
   "outputs": [],
   "source": [
    "satellite_data_client = SatelliteDataClient(ipaddress.ip_address('127.0.0.1'), 8010)"
   ]
  },
  {
   "cell_type": "code",
   "execution_count": 17,
   "id": "56464f73-5082-46a2-a363-070b44b6cc9e",
   "metadata": {},
   "outputs": [
    {
     "name": "stdout",
     "output_type": "stream",
     "text": [
      "                                             geometry   Name  \\\n",
      "0   GEOMETRYCOLLECTION Z (POLYGON Z ((5.67154 47.8...  31TGN   \n",
      "1   GEOMETRYCOLLECTION Z (POLYGON Z ((4.56477 55.0...  31UFA   \n",
      "2   GEOMETRYCOLLECTION Z (POLYGON Z ((4.53070 54.1...  31UFV   \n",
      "3   GEOMETRYCOLLECTION Z (POLYGON Z ((5.71882 48.7...  31UGP   \n",
      "4   GEOMETRYCOLLECTION Z (POLYGON Z ((5.76851 49.6...  31UGQ   \n",
      "..                                                ...    ...   \n",
      "57  GEOMETRYCOLLECTION Z (POLYGON Z ((13.63918 48....  33UVP   \n",
      "58  GEOMETRYCOLLECTION Z (POLYGON Z ((13.58809 50....  33UVR   \n",
      "59  GEOMETRYCOLLECTION Z (POLYGON Z ((13.56055 51....  33UVS   \n",
      "60  GEOMETRYCOLLECTION Z (POLYGON Z ((13.50094 53....  33UVU   \n",
      "61  GEOMETRYCOLLECTION Z (POLYGON Z ((13.46869 54....  33UVV   \n",
      "\n",
      "                                          Description  \n",
      "0   TILE PROPERTIES<br><table border=0 cellpadding...  \n",
      "1   TILE PROPERTIES<br><table border=0 cellpadding...  \n",
      "2   TILE PROPERTIES<br><table border=0 cellpadding...  \n",
      "3   TILE PROPERTIES<br><table border=0 cellpadding...  \n",
      "4   TILE PROPERTIES<br><table border=0 cellpadding...  \n",
      "..                                                ...  \n",
      "57  TILE PROPERTIES<br><table border=0 cellpadding...  \n",
      "58  TILE PROPERTIES<br><table border=0 cellpadding...  \n",
      "59  TILE PROPERTIES<br><table border=0 cellpadding...  \n",
      "60  TILE PROPERTIES<br><table border=0 cellpadding...  \n",
      "61  TILE PROPERTIES<br><table border=0 cellpadding...  \n",
      "\n",
      "[62 rows x 3 columns]\n"
     ]
    }
   ],
   "source": [
    "grid_cells = satellite_data_client.queryContainingGeometry(locations)\n",
    "print(grid_cells)"
   ]
  },
  {
   "cell_type": "code",
   "execution_count": 18,
   "id": "5c2023ec-b53d-45f8-8eba-f7446d6ca865",
   "metadata": {},
   "outputs": [],
   "source": [
    "world = gpd.read_file(gpd.datasets.get_path('naturalearth_lowres'))"
   ]
  },
  {
   "cell_type": "code",
   "execution_count": 19,
   "id": "409c0583-900e-43df-b4a2-29b136e34cef",
   "metadata": {},
   "outputs": [],
   "source": [
    "output_dir = 'results/'\n",
    "if not os.path.exists(output_dir):\n",
    "    os.makedirs(output_dir)"
   ]
  },
  {
   "cell_type": "code",
   "execution_count": 35,
   "id": "ae999971",
   "metadata": {},
   "outputs": [],
   "source": [
    "markersize = 0.1"
   ]
  },
  {
   "cell_type": "code",
   "execution_count": 36,
   "id": "de8d9107-e76a-4742-b539-de2ff334d06a",
   "metadata": {},
   "outputs": [],
   "source": [
    "with plt.style.context((\"seaborn\", \"ggplot\")):\n",
    "    world = gpd.read_file(gpd.datasets.get_path('naturalearth_lowres'))\n",
    "    ax = world.plot(figsize=(16,9), color='#8e979f', zorder=1);\n",
    "    grid_cells.buffer(0).boundary.plot(ax=ax, edgecolor='black', alpha=0.6, linewidth=0.1, zorder=2)\n",
    "    ax.scatter(stations_meta.longitude, stations_meta.latitude, s=1.0*markersize, linewidth=0.05*markersize, color='#E74C3C', edgecolor='white', zorder=3)\n",
    "    plt.savefig(f'{output_dir}locations_and_grid_cells_view.svg', bbox_inches='tight', dpi=150, format='svg')"
   ]
  }
 ],
 "metadata": {
  "kernelspec": {
   "display_name": "Python 3 (ipykernel)",
   "language": "python",
   "name": "python3"
  },
  "language_info": {
   "codemirror_mode": {
    "name": "ipython",
    "version": 3
   },
   "file_extension": ".py",
   "mimetype": "text/x-python",
   "name": "python",
   "nbconvert_exporter": "python",
   "pygments_lexer": "ipython3",
   "version": "3.9.15 | packaged by conda-forge | (main, Nov 22 2022, 08:41:22) [MSC v.1929 64 bit (AMD64)]"
  },
  "vscode": {
   "interpreter": {
    "hash": "d581a96df5f4d85c539a287c4f6ef29fb4dda2cc3374c000ae58cf3e6d0b188e"
   }
  }
 },
 "nbformat": 4,
 "nbformat_minor": 5
}
